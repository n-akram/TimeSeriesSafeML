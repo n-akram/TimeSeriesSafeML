{
 "cells": [
  {
   "cell_type": "code",
   "execution_count": 1,
   "metadata": {},
   "outputs": [],
   "source": [
    "import numpy as np\n",
    "import pandas as pd"
   ]
  },
  {
   "cell_type": "code",
   "execution_count": 2,
   "metadata": {},
   "outputs": [],
   "source": [
    "import rpy2\n",
    "import rpy2.robjects\n",
    "from rpy2.robjects.packages import importr"
   ]
  },
  {
   "cell_type": "code",
   "execution_count": null,
   "metadata": {},
   "outputs": [],
   "source": [
    "import rpy2.robjects.numpy2ri\n",
    "rpy2.robjects.numpy2ri.activate()"
   ]
  },
  {
   "cell_type": "code",
   "execution_count": 4,
   "metadata": {},
   "outputs": [
    {
     "data": {
      "text/html": [
       "<div>\n",
       "<style scoped>\n",
       "    .dataframe tbody tr th:only-of-type {\n",
       "        vertical-align: middle;\n",
       "    }\n",
       "\n",
       "    .dataframe tbody tr th {\n",
       "        vertical-align: top;\n",
       "    }\n",
       "\n",
       "    .dataframe thead th {\n",
       "        text-align: right;\n",
       "    }\n",
       "</style>\n",
       "<table border=\"1\" class=\"dataframe\">\n",
       "  <thead>\n",
       "    <tr style=\"text-align: right;\">\n",
       "      <th></th>\n",
       "      <th>Date</th>\n",
       "      <th>Open</th>\n",
       "      <th>High</th>\n",
       "      <th>Low</th>\n",
       "      <th>Close</th>\n",
       "      <th>Volume</th>\n",
       "      <th>Name</th>\n",
       "    </tr>\n",
       "  </thead>\n",
       "  <tbody>\n",
       "    <tr>\n",
       "      <th>0</th>\n",
       "      <td>2010-01-04</td>\n",
       "      <td>1091.1</td>\n",
       "      <td>1091.1</td>\n",
       "      <td>1021.85</td>\n",
       "      <td>1075.50</td>\n",
       "      <td>17520006</td>\n",
       "      <td>RELIANCE</td>\n",
       "    </tr>\n",
       "    <tr>\n",
       "      <th>1</th>\n",
       "      <td>2010-01-05</td>\n",
       "      <td>1149.9</td>\n",
       "      <td>1149.9</td>\n",
       "      <td>1065.40</td>\n",
       "      <td>1070.70</td>\n",
       "      <td>4890040</td>\n",
       "      <td>RELIANCE</td>\n",
       "    </tr>\n",
       "    <tr>\n",
       "      <th>2</th>\n",
       "      <td>2010-01-06</td>\n",
       "      <td>1079.9</td>\n",
       "      <td>1094.5</td>\n",
       "      <td>1070.65</td>\n",
       "      <td>1088.00</td>\n",
       "      <td>5415538</td>\n",
       "      <td>RELIANCE</td>\n",
       "    </tr>\n",
       "    <tr>\n",
       "      <th>3</th>\n",
       "      <td>2010-01-07</td>\n",
       "      <td>1088.0</td>\n",
       "      <td>1115.0</td>\n",
       "      <td>1078.00</td>\n",
       "      <td>1106.05</td>\n",
       "      <td>5988404</td>\n",
       "      <td>RELIANCE</td>\n",
       "    </tr>\n",
       "    <tr>\n",
       "      <th>4</th>\n",
       "      <td>2010-01-08</td>\n",
       "      <td>1108.0</td>\n",
       "      <td>1113.8</td>\n",
       "      <td>1096.00</td>\n",
       "      <td>1103.15</td>\n",
       "      <td>3453926</td>\n",
       "      <td>RELIANCE</td>\n",
       "    </tr>\n",
       "  </tbody>\n",
       "</table>\n",
       "</div>"
      ],
      "text/plain": [
       "         Date    Open    High      Low    Close    Volume      Name\n",
       "0  2010-01-04  1091.1  1091.1  1021.85  1075.50  17520006  RELIANCE\n",
       "1  2010-01-05  1149.9  1149.9  1065.40  1070.70   4890040  RELIANCE\n",
       "2  2010-01-06  1079.9  1094.5  1070.65  1088.00   5415538  RELIANCE\n",
       "3  2010-01-07  1088.0  1115.0  1078.00  1106.05   5988404  RELIANCE\n",
       "4  2010-01-08  1108.0  1113.8  1096.00  1103.15   3453926  RELIANCE"
      ]
     },
     "execution_count": 4,
     "metadata": {},
     "output_type": "execute_result"
    }
   ],
   "source": [
    "filepath = \"RELIANCE_2010-01-012021-08-30.csv\"\n",
    "data = pd.read_csv(filepath)\n",
    "data = data.sort_values('Date')\n",
    "data.head()"
   ]
  },
  {
   "cell_type": "code",
   "execution_count": 7,
   "metadata": {},
   "outputs": [],
   "source": [
    "def splitData(ts):\n",
    "\n",
    "    test_set_size = int(np.round(0.2*len(ts)));\n",
    "    train_set = ts[:-test_set_size]    \n",
    "    test_set = ts[-test_set_size:]\n",
    "\n",
    "    return train_set, test_set\n"
   ]
  },
  {
   "cell_type": "code",
   "execution_count": null,
   "metadata": {},
   "outputs": [],
   "source": [
    "def modify_test_data(test_set, variance):\n",
    "    \n",
    "    noise = np.random.normal(0,variance,len(test_set))\n",
    "    modified_test_Set = test_set + noise\n",
    "\n",
    "    return modified_test_Set"
   ]
  },
  {
   "cell_type": "code",
   "execution_count": null,
   "metadata": {},
   "outputs": [],
   "source": [
    "TSdist = importr('TSdist')"
   ]
  },
  {
   "cell_type": "code",
   "execution_count": null,
   "metadata": {},
   "outputs": [],
   "source": [
    "variance = np.arange(0, 1.0, 0.5)\n",
    "dtw = []\n",
    "# frechet = []\n",
    "\n",
    "for i in range(len(variance)):\n",
    "    \n",
    "    train_set, test_set = splitData(data['Close'].values)   \n",
    "    modified_test_set = modify_test_data(test_set, variance[i])\n",
    "\n",
    "    dtw_dist = TSdist.DTWDistance(train_set, modified_test_set)\n",
    "    # frechet_dist = TSdist.FrechetDistance(train_set, modified_test_set)\n",
    "    dtw.append(dtw_dist)\n",
    "    # frechet.append(frechet_dist)"
   ]
  },
  {
   "cell_type": "code",
   "execution_count": null,
   "metadata": {},
   "outputs": [],
   "source": [
    "variance = np.arange(0, 1.0, 0.5)\n",
    "# dtw = []\n",
    "frechet = []\n",
    "\n",
    "for i in range(len(variance)):\n",
    "    \n",
    "    train_set, test_set = splitData(data['Close'].values)   \n",
    "    modified_test_set = modify_test_data(test_set, variance[i])\n",
    "\n",
    "    # dtw_dist = TSdist.DTWDistance(train_set, modified_test_set)\n",
    "    frechet_dist = TSdist.FrechetDistance(train_set, modified_test_set)\n",
    "    # dtw.append(dtw_dist)\n",
    "    frechet.append(frechet_dist)"
   ]
  }
 ],
 "metadata": {
  "interpreter": {
   "hash": "5f6ee379e8e2743993d5cc413cde3cb5f720832e5c163b02926ee59a057a3561"
  },
  "kernelspec": {
   "display_name": "Python 3.7.11 64-bit ('safeml': conda)",
   "language": "python",
   "name": "python3"
  },
  "language_info": {
   "codemirror_mode": {
    "name": "ipython",
    "version": 3
   },
   "file_extension": ".py",
   "mimetype": "text/x-python",
   "name": "python",
   "nbconvert_exporter": "python",
   "pygments_lexer": "ipython3",
   "version": "3.7.12"
  },
  "orig_nbformat": 4
 },
 "nbformat": 4,
 "nbformat_minor": 2
}
