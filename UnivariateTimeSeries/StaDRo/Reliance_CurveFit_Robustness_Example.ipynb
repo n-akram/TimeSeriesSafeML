{
 "cells": [
  {
   "cell_type": "markdown",
   "metadata": {},
   "source": [
    "## <strong> SafeML - A tool for safety monitoring of ML components </strong>\n",
    "\n",
    "### <em>StaDRe and StaDRo </em>: Reliability and Robustness Estimation of ML-based Forecasting using Statistical Distance Measures\n",
    "\n",
    "As technology moves toward higher degrees of automation in cars, the use of AI, and specifically Machine Learning (ML), becomes more common. The assurance of the safety of such systems is a huge problem, as they add new sources of risk into the system. SafeML is one of various risk-reduction approaches that has been proposed in:\n",
    "<br>https://www.springerprofessional.de/en/safeml-safety-monitoring-of-machine-learning-classifiers-through/18346420</br>\n",
    "\n",
    "SafeML method addresses safety and security during operation of ML systems by actively monitoring the distance between design-time trained context and runtime context using Empirical Cumulative Distribution Function (ECDF)- based distance measures.\n",
    "The entire code of SafML is avaiable at: https://github.com/ISorokos/SafeML\n",
    "\n",
    "Ensuring dependability of ML systems is crucial, particularly when deployed in safety-critical applications as the decisions based\n",
    "on model predictions can result in hazardous situations. For ML-based systems to be used in safety-critical systems, certain qualities of\n",
    "ML solutions such as reliability, fairness, robustness, transparency, and security are important.  \n",
    "\n",
    "This work focuses on two quailities that are desired from ML solutions: <em>Reliability</em> and <em>Robustness</em> and uses SafeML for time series data. With this objective, distance measures based on ECDF proposed in SafeML are investigated for measuring Statistical-Distance Dissimilarity (SDD) across time series. We then present two novel metrics: SDD-based Reliability Estimate (StaDRe) and SDD-based Robustness (StaDRo).\n",
    "\n"
   ]
  },
  {
   "cell_type": "markdown",
   "metadata": {},
   "source": [
    "<em>This notebook provides a runtime example for the computation of StaDRo. The example considered here is financial-critical i.e. company's stock closing price.</em>\n",
    "\n",
    "The rest of the notebook is organized as follows:\n",
    "\n",
    "<ol>\n",
    "    <li>Data Acquisition, pre-processing, visualization and preparation. </li>\n",
    "    <li>Model training (if built from scratch) or Loading a trained model </li>\n",
    "    <li>Evaluation of model's performance at runtime</li>\n",
    "    <li>Estimation of SDD between training and runtime environments</li>\n",
    "    <li>SDD vs. Performance behaviour</li>\n",
    "    <li>StaDRo measure</li>\n",
    "</ol>"
   ]
  },
  {
   "cell_type": "markdown",
   "metadata": {},
   "source": [
    "### Import necessary libraries"
   ]
  },
  {
   "cell_type": "code",
   "execution_count": 1,
   "metadata": {},
   "outputs": [],
   "source": [
    "import os\n",
    "import sys\n",
    "\n",
    "nb_dir_1 = os.path.split(os.getcwd())[0]\n",
    "current_path = os.getcwd()\n",
    "\n",
    "if nb_dir_1 not in sys.path:\n",
    "    sys.path.append(nb_dir_1)"
   ]
  },
  {
   "cell_type": "code",
   "execution_count": 2,
   "metadata": {},
   "outputs": [],
   "source": [
    "import warnings\n",
    "warnings.filterwarnings(\"ignore\")"
   ]
  },
  {
   "cell_type": "code",
   "execution_count": 3,
   "metadata": {},
   "outputs": [],
   "source": [
    "import numpy as np\n",
    "import pandas as pd\n",
    "import torch\n",
    "from sklearn.preprocessing import MinMaxScaler\n",
    "import math\n",
    "from sklearn.metrics import mean_squared_error, r2_score, mean_absolute_percentage_error\n",
    "import plotly.express as px\n",
    "import matplotlib.pyplot as plt\n",
    "import matplotlib.dates as mdates\n",
    "\n",
    "from core.data_preparation import DataPreparation\n",
    "from core.curve_fit import fit_polynomial_curve_to_data_and_visualize, compute_roots_from_curve_fit, sdd_performance_visualization\n",
    "from core.ecdf_distance_measures import WassersteinDistance, CramerVonMisesDistance, KuiperDistance, AndersonDarlingDistance, KolmogorovSmirnovDistance, DTSDistance"
   ]
  },
  {
   "cell_type": "markdown",
   "metadata": {},
   "source": [
    "### Check the computing platform"
   ]
  },
  {
   "cell_type": "code",
   "execution_count": 4,
   "metadata": {},
   "outputs": [
    {
     "name": "stdout",
     "output_type": "stream",
     "text": [
      "PyTorch using device : cpu\n"
     ]
    }
   ],
   "source": [
    "if torch.cuda.is_available():\n",
    "    DEVICE = torch.device('cuda')\n",
    "else:\n",
    "    DEVICE = torch.device('cpu')\n",
    "\n",
    "print(\"PyTorch using device :\", DEVICE)"
   ]
  },
  {
   "cell_type": "markdown",
   "metadata": {},
   "source": [
    "### 1. Data Acquisition"
   ]
  },
  {
   "cell_type": "markdown",
   "metadata": {},
   "source": [
    "First step in building a prediction module, is to get the historical data. Currently there exists number of apis that we can utilise to get the dataset. In this notebook we explore use of the following libraries getting Stock history.\n",
    "<ul>\n",
    "    <li> NSEpy </li>\n",
    "    <li> Yahoo Finance </li>\n",
    "</ul>\n",
    "\n",
    "\n",
    "The closing price of a stock is recorded every day on weekdays. On weekends, no data is collected."
   ]
  },
  {
   "cell_type": "code",
   "execution_count": 5,
   "metadata": {},
   "outputs": [],
   "source": [
    "DATAFOLDERPATH = os.path.join(os.path.dirname(os.getcwd()), 'Data')"
   ]
  },
  {
   "cell_type": "markdown",
   "metadata": {},
   "source": [
    "Using NSEpy - NSEpy is a library for National Stock Exchange of India."
   ]
  },
  {
   "cell_type": "code",
   "execution_count": 6,
   "metadata": {},
   "outputs": [
    {
     "name": "stdout",
     "output_type": "stream",
     "text": [
      "The kaggle data should be in following format.\n"
     ]
    },
    {
     "data": {
      "text/html": [
       "<div>\n",
       "<style scoped>\n",
       "    .dataframe tbody tr th:only-of-type {\n",
       "        vertical-align: middle;\n",
       "    }\n",
       "\n",
       "    .dataframe tbody tr th {\n",
       "        vertical-align: top;\n",
       "    }\n",
       "\n",
       "    .dataframe thead th {\n",
       "        text-align: right;\n",
       "    }\n",
       "</style>\n",
       "<table border=\"1\" class=\"dataframe\">\n",
       "  <thead>\n",
       "    <tr style=\"text-align: right;\">\n",
       "      <th></th>\n",
       "      <th>Date</th>\n",
       "      <th>Open</th>\n",
       "      <th>High</th>\n",
       "      <th>Low</th>\n",
       "      <th>Close</th>\n",
       "      <th>Volume</th>\n",
       "      <th>Name</th>\n",
       "    </tr>\n",
       "  </thead>\n",
       "  <tbody>\n",
       "    <tr>\n",
       "      <th>0</th>\n",
       "      <td>2006-01-03</td>\n",
       "      <td>82.45</td>\n",
       "      <td>82.55</td>\n",
       "      <td>80.81</td>\n",
       "      <td>82.06</td>\n",
       "      <td>11715200</td>\n",
       "      <td>IBM</td>\n",
       "    </tr>\n",
       "    <tr>\n",
       "      <th>1</th>\n",
       "      <td>2006-01-04</td>\n",
       "      <td>82.20</td>\n",
       "      <td>82.50</td>\n",
       "      <td>81.33</td>\n",
       "      <td>81.95</td>\n",
       "      <td>9840600</td>\n",
       "      <td>IBM</td>\n",
       "    </tr>\n",
       "    <tr>\n",
       "      <th>2</th>\n",
       "      <td>2006-01-05</td>\n",
       "      <td>81.40</td>\n",
       "      <td>82.90</td>\n",
       "      <td>81.00</td>\n",
       "      <td>82.50</td>\n",
       "      <td>7213500</td>\n",
       "      <td>IBM</td>\n",
       "    </tr>\n",
       "    <tr>\n",
       "      <th>3</th>\n",
       "      <td>2006-01-06</td>\n",
       "      <td>83.95</td>\n",
       "      <td>85.03</td>\n",
       "      <td>83.41</td>\n",
       "      <td>84.95</td>\n",
       "      <td>8197400</td>\n",
       "      <td>IBM</td>\n",
       "    </tr>\n",
       "    <tr>\n",
       "      <th>4</th>\n",
       "      <td>2006-01-09</td>\n",
       "      <td>84.10</td>\n",
       "      <td>84.25</td>\n",
       "      <td>83.38</td>\n",
       "      <td>83.73</td>\n",
       "      <td>6858200</td>\n",
       "      <td>IBM</td>\n",
       "    </tr>\n",
       "  </tbody>\n",
       "</table>\n",
       "</div>"
      ],
      "text/plain": [
       "         Date   Open   High    Low  Close    Volume Name\n",
       "0  2006-01-03  82.45  82.55  80.81  82.06  11715200  IBM\n",
       "1  2006-01-04  82.20  82.50  81.33  81.95   9840600  IBM\n",
       "2  2006-01-05  81.40  82.90  81.00  82.50   7213500  IBM\n",
       "3  2006-01-06  83.95  85.03  83.41  84.95   8197400  IBM\n",
       "4  2006-01-09  84.10  84.25  83.38  83.73   6858200  IBM"
      ]
     },
     "execution_count": 6,
     "metadata": {},
     "output_type": "execute_result"
    }
   ],
   "source": [
    "from nsepy import get_history\n",
    "from datetime import date\n",
    "\n",
    "# Provide start and end dates for acquiring historical data\n",
    "start_date = date(2010,1,1)\n",
    "end_date = date.today()\n",
    "\n",
    "# Get historical data for specific company by choosing specific symbol, in this case Reliance data.\n",
    "data = get_history(symbol=\"RELIANCE\", start=start_date, end=end_date)\n",
    "\n",
    "# Now convert this data to Kaggle format so that we can use it in training and testing. The Kaggle accepts data in following format.\n",
    "kaggle_filepath = os.path.join(DATAFOLDERPATH, 'Kaggle_sample.csv')\n",
    "sample = pd.read_csv(kaggle_filepath)\n",
    "print(\"The kaggle data should be in following format.\")\n",
    "sample.head()\n"
   ]
  },
  {
   "cell_type": "code",
   "execution_count": 7,
   "metadata": {},
   "outputs": [],
   "source": [
    "# Select the required columns for the new dataset and rename the columns to suit to Kaggle format.\n",
    "new_dataset = data[['Open','High', 'Low', 'Close', 'Volume', 'Symbol']]\n",
    "new_dataset.columns = ['Open','High', 'Low', 'Close', 'Volume', 'Name']\n",
    "\n",
    "export_name = data[\"Symbol\"][0]+ '_' + str(start_date) + str(end_date) + '.csv'\n",
    "full_save_path = os.path.join(DATAFOLDERPATH, export_name)\n",
    "new_dataset.to_csv(full_save_path)"
   ]
  },
  {
   "cell_type": "markdown",
   "metadata": {},
   "source": [
    "Using Yahoo Finance\n",
    "\n",
    "Yahoo Finance allows to download historical data from the following link - https://finance.yahoo.com/. Follow the below given steps:\n",
    "<ul>\n",
    "    <li> Click on the above link. </li>\n",
    "    <li> Search for the company for which the data is to be acquired by typing the symbol or company name in the search bar. </li>\n",
    "    <li> Click on Historical Data and select required start and end dates </li>\n",
    "    <li> Finally, click on Download </li>\n",
    "</ul>\n",
    "\n",
    "The data provided by Yahoo Finace is already a match to Kaggle format except for the missing Name column. However, as we are only working with Closing price of the company's stock data over a certain period of time, we could use the dataset file acquired from Yahoo Finance as it is without converting it explicitly to Kaggle Format."
   ]
  },
  {
   "cell_type": "code",
   "execution_count": 8,
   "metadata": {},
   "outputs": [
    {
     "data": {
      "text/html": [
       "<div>\n",
       "<style scoped>\n",
       "    .dataframe tbody tr th:only-of-type {\n",
       "        vertical-align: middle;\n",
       "    }\n",
       "\n",
       "    .dataframe tbody tr th {\n",
       "        vertical-align: top;\n",
       "    }\n",
       "\n",
       "    .dataframe thead th {\n",
       "        text-align: right;\n",
       "    }\n",
       "</style>\n",
       "<table border=\"1\" class=\"dataframe\">\n",
       "  <thead>\n",
       "    <tr style=\"text-align: right;\">\n",
       "      <th></th>\n",
       "      <th>Date</th>\n",
       "      <th>Open</th>\n",
       "      <th>High</th>\n",
       "      <th>Low</th>\n",
       "      <th>Close</th>\n",
       "      <th>Volume</th>\n",
       "      <th>Name</th>\n",
       "    </tr>\n",
       "  </thead>\n",
       "  <tbody>\n",
       "    <tr>\n",
       "      <th>0</th>\n",
       "      <td>2021-06-01</td>\n",
       "      <td>2422.000000</td>\n",
       "      <td>2437.970947</td>\n",
       "      <td>2404.879883</td>\n",
       "      <td>2429.810059</td>\n",
       "      <td>958300</td>\n",
       "      <td>Google</td>\n",
       "    </tr>\n",
       "    <tr>\n",
       "      <th>1</th>\n",
       "      <td>2021-06-02</td>\n",
       "      <td>2435.310059</td>\n",
       "      <td>2442.000000</td>\n",
       "      <td>2404.199951</td>\n",
       "      <td>2421.280029</td>\n",
       "      <td>857900</td>\n",
       "      <td>Google</td>\n",
       "    </tr>\n",
       "    <tr>\n",
       "      <th>2</th>\n",
       "      <td>2021-06-03</td>\n",
       "      <td>2395.020020</td>\n",
       "      <td>2409.745117</td>\n",
       "      <td>2382.830078</td>\n",
       "      <td>2404.610107</td>\n",
       "      <td>917300</td>\n",
       "      <td>Google</td>\n",
       "    </tr>\n",
       "    <tr>\n",
       "      <th>3</th>\n",
       "      <td>2021-06-04</td>\n",
       "      <td>2422.520020</td>\n",
       "      <td>2453.858887</td>\n",
       "      <td>2417.770020</td>\n",
       "      <td>2451.760010</td>\n",
       "      <td>1297400</td>\n",
       "      <td>Google</td>\n",
       "    </tr>\n",
       "    <tr>\n",
       "      <th>4</th>\n",
       "      <td>2021-06-07</td>\n",
       "      <td>2451.320068</td>\n",
       "      <td>2468.000000</td>\n",
       "      <td>2441.072998</td>\n",
       "      <td>2466.090088</td>\n",
       "      <td>1192500</td>\n",
       "      <td>Google</td>\n",
       "    </tr>\n",
       "  </tbody>\n",
       "</table>\n",
       "</div>"
      ],
      "text/plain": [
       "         Date         Open         High          Low        Close   Volume  \\\n",
       "0  2021-06-01  2422.000000  2437.970947  2404.879883  2429.810059   958300   \n",
       "1  2021-06-02  2435.310059  2442.000000  2404.199951  2421.280029   857900   \n",
       "2  2021-06-03  2395.020020  2409.745117  2382.830078  2404.610107   917300   \n",
       "3  2021-06-04  2422.520020  2453.858887  2417.770020  2451.760010  1297400   \n",
       "4  2021-06-07  2451.320068  2468.000000  2441.072998  2466.090088  1192500   \n",
       "\n",
       "     Name  \n",
       "0  Google  \n",
       "1  Google  \n",
       "2  Google  \n",
       "3  Google  \n",
       "4  Google  "
      ]
     },
     "execution_count": 8,
     "metadata": {},
     "output_type": "execute_result"
    }
   ],
   "source": [
    "# Exceute the following block of code for converting data acquired from Yahoo Finance into Kaggle format (Optional).\n",
    "symbol = 'Google'\n",
    "filename = 'YahooFinance_Google_Example.csv'\n",
    "filepath = os.path.join(DATAFOLDERPATH, filename)\n",
    "data = pd.read_csv(filepath, header=0)\n",
    "\n",
    "# Drop additional column Adj Close and add Name column\n",
    "data.drop('Adj Close', axis=1, inplace=True)\n",
    "data['Name'] = symbol\n",
    "\n",
    "data.head()"
   ]
  },
  {
   "cell_type": "code",
   "execution_count": 9,
   "metadata": {},
   "outputs": [
    {
     "data": {
      "text/html": [
       "<div>\n",
       "<style scoped>\n",
       "    .dataframe tbody tr th:only-of-type {\n",
       "        vertical-align: middle;\n",
       "    }\n",
       "\n",
       "    .dataframe tbody tr th {\n",
       "        vertical-align: top;\n",
       "    }\n",
       "\n",
       "    .dataframe thead th {\n",
       "        text-align: right;\n",
       "    }\n",
       "</style>\n",
       "<table border=\"1\" class=\"dataframe\">\n",
       "  <thead>\n",
       "    <tr style=\"text-align: right;\">\n",
       "      <th></th>\n",
       "      <th>date</th>\n",
       "      <th>close</th>\n",
       "    </tr>\n",
       "  </thead>\n",
       "  <tbody>\n",
       "    <tr>\n",
       "      <th>0</th>\n",
       "      <td>2010-01-04</td>\n",
       "      <td>1075.50</td>\n",
       "    </tr>\n",
       "    <tr>\n",
       "      <th>1</th>\n",
       "      <td>2010-01-05</td>\n",
       "      <td>1070.70</td>\n",
       "    </tr>\n",
       "    <tr>\n",
       "      <th>2</th>\n",
       "      <td>2010-01-06</td>\n",
       "      <td>1088.00</td>\n",
       "    </tr>\n",
       "    <tr>\n",
       "      <th>3</th>\n",
       "      <td>2010-01-07</td>\n",
       "      <td>1106.05</td>\n",
       "    </tr>\n",
       "    <tr>\n",
       "      <th>4</th>\n",
       "      <td>2010-01-08</td>\n",
       "      <td>1103.15</td>\n",
       "    </tr>\n",
       "  </tbody>\n",
       "</table>\n",
       "</div>"
      ],
      "text/plain": [
       "        date    close\n",
       "0 2010-01-04  1075.50\n",
       "1 2010-01-05  1070.70\n",
       "2 2010-01-06  1088.00\n",
       "3 2010-01-07  1106.05\n",
       "4 2010-01-08  1103.15"
      ]
     },
     "execution_count": 9,
     "metadata": {},
     "output_type": "execute_result"
    }
   ],
   "source": [
    "# Read the dataset file from the Data directory, which is already acquired. \n",
    "# We use the RELIANCE company dataset until 30-08-2021 that was acquired at the time of implementation of the project in order to reproduce the presented results.\n",
    "# However, any other datasets with different start and end dates can be used.\n",
    "\n",
    "filepath = os.path.join(DATAFOLDERPATH, 'RELIANCE_2010-01-012021-08-30.csv')\n",
    "data = pd.read_csv(filepath, usecols=[0,4], names=['date', 'close'], header=0)\n",
    "data = data.sort_values('date')\n",
    "data['date'] = pd.to_datetime(data['date'])\n",
    "data.head()"
   ]
  },
  {
   "cell_type": "code",
   "execution_count": 10,
   "metadata": {},
   "outputs": [
    {
     "name": "stdout",
     "output_type": "stream",
     "text": [
      "Length of the dataset: 2895\n",
      "Are there any missing values: False\n"
     ]
    }
   ],
   "source": [
    "# Check for the length of data and for any missing values. \n",
    "print(\"Length of the dataset:\", len(data))\n",
    "print(\"Are there any missing values:\", data.isnull().values.any())"
   ]
  },
  {
   "cell_type": "code",
   "execution_count": 11,
   "metadata": {},
   "outputs": [],
   "source": [
    "# Remove the entries with NaN and cross-check if these are additional data added on weekends or some weekday data is missing.\n",
    "# Execute only if there are missing values.\n",
    "data.dropna(inplace=True)\n",
    "data.reset_index(drop=True, inplace=True)"
   ]
  },
  {
   "cell_type": "markdown",
   "metadata": {},
   "source": [
    "### Visualize the univariate time series read from the .csv file\n",
    "#### (Example: RELIANCE company's stock closing price)"
   ]
  },
  {
   "cell_type": "code",
   "execution_count": 12,
   "metadata": {},
   "outputs": [
    {
     "data": {
      "image/png": "[encoded data removed]",
      "text/plain": [
       "<Figure size 648x360 with 1 Axes>"
      ]
     },
     "metadata": {
      "needs_background": "light"
     },
     "output_type": "display_data"
    }
   ],
   "source": [
    "#Creates just a figure and only one subplot\n",
    "fig, ax = plt.subplots(figsize=(9,5))\n",
    "plt.subplots_adjust(left=0, bottom=0, right=1, top=1, wspace=0, hspace=0)\n",
    "ax.plot(data['date'], data['close'], c='b')\n",
    "ax.set_xlabel('Time', fontsize=13, labelpad=15)\n",
    "ax.set_ylabel('Closing price (INR)', fontsize=13,  labelpad=10)\n",
    "half_year_locator = mdates.MonthLocator(interval=12)\n",
    "year_month_formatter = mdates.DateFormatter(\"%Y-%m\")\n",
    "ax.xaxis.set_major_locator(half_year_locator)\n",
    "month_year_formatter = mdates.DateFormatter('%b, %Y')\n",
    "ax.xaxis.set_major_formatter(month_year_formatter)\n",
    "fig.autofmt_xdate()\n",
    "plt.show()"
   ]
  },
  {
   "cell_type": "markdown",
   "metadata": {},
   "source": [
    "The stock price data for Reliance is collected from 01-01-2010 (start date) to 31-08-2021 (end date), resulting in a 2895-day time period. Looking at the data, it is visible that there is an increasing trend in the time series beginning around July 2020, and stock prices are rising year after year."
   ]
  },
  {
   "cell_type": "markdown",
   "metadata": {},
   "source": [
    "### Setup training and test phases"
   ]
  },
  {
   "cell_type": "markdown",
   "metadata": {},
   "source": [
    "To forecast future values using forecasting methods, the entire dataset is split into training and test sets (hold-out). The training set is used to determine forecasting model parameters by fitting data to it, whereas the test set is used to assess the accuracy of this trained model. All datasets utilized in this work are split into two parts: 80% training and 20% testing. The closing price data is normalized between -1 and 1 for training and evaluating forecasting models. This work primarily focuses on univariate time series with <em>one-step </em> ahead prediction (i.e. forecast horizon = 1). The <em>window size</em> or <em>lookback period</em> are tuned differently for every use case. The example in this notebook considers a <em>window size of 20</em>."
   ]
  },
  {
   "cell_type": "code",
   "execution_count": 13,
   "metadata": {},
   "outputs": [
    {
     "name": "stdout",
     "output_type": "stream",
     "text": [
      "x_train.shape =  (2296, 20, 1)\n",
      "y_train.shape =  (2296, 1)\n",
      "x_test.shape =  (559, 20, 1)\n",
      "y_test.shape =  (559, 1)\n"
     ]
    }
   ],
   "source": [
    "# Define the length of training data, here 80% of the entire data is considered.\n",
    "train_len = 0.8*len(data)\n",
    "\n",
    "# Define window size or the lookback period to be used while forecasting time series.\n",
    "window_size = 20\n",
    "\n",
    "# Initialize data preparation with default test fraction and window size\n",
    "dataset = DataPreparation()\n",
    "\n",
    "# Divide the data intro training and test set with default values as 80% training data and 20% \n",
    "train_set, test_set = dataset.splitData(data['close'].values)\n",
    "\n",
    "# Length of actual test set\n",
    "actual_test_len = len(test_set) - window_size\n",
    "\n",
    "# Define feature range for normalization of the data.\n",
    "scaler = MinMaxScaler(feature_range=(-1, 1))\n",
    "\n",
    "# Formulate time series into supervised learning problem using sliding window approach\n",
    "scaler, x_train, x_test, y_train_lstm, y_test_lstm = dataset.prepare_data_with_normalization(data['close'].values, scaler)"
   ]
  },
  {
   "cell_type": "markdown",
   "metadata": {},
   "source": [
    "### Build and Train a forecasting model from scratch"
   ]
  },
  {
   "cell_type": "markdown",
   "metadata": {},
   "source": [
    "For forecasting, any of the available deep learning architectures can be used. This work primarily focuses on LSTM and GRU models that models can be built and trained from scratch. For Reliance, the LSTM architecture was designed with two hidden layers and a hidden dimension of 32. The model was trained over 100 epochs using the Adam optimizer with mean squared error as the loss function. A learning rate of 0.01 was found to be optimal. "
   ]
  },
  {
   "cell_type": "code",
   "execution_count": 14,
   "metadata": {},
   "outputs": [],
   "source": [
    "# input_dim = 1\n",
    "# hidden_dim = 32\n",
    "# num_layers = 2\n",
    "# output_dim = 1\n",
    "# num_epochs = 100\n",
    "\n",
    "# model = LSTM(input_dim=input_dim, hidden_dim=hidden_dim, output_dim=output_dim, num_layers=num_layers)\n",
    "# criterion = torch.nn.MSELoss(reduction='mean')\n",
    "# optimiser = torch.optim.Adam(model.parameters(), lr=0.01)\n",
    "\n",
    "# hist = np.zeros(num_epochs)\n",
    "# lstm = []\n",
    "\n",
    "# for t in range(num_epochs):\n",
    "#     y_train_pred = model(x_train)\n",
    "\n",
    "#     loss = criterion(y_train_pred, y_train_lstm)\n",
    "#     hist[t] = loss.item()\n",
    "\n",
    "#     optimiser.zero_grad()\n",
    "#     loss.backward()\n",
    "#     optimiser.step()\n",
    "    \n"
   ]
  },
  {
   "cell_type": "markdown",
   "metadata": {},
   "source": [
    "### Save the trained model"
   ]
  },
  {
   "cell_type": "code",
   "execution_count": 15,
   "metadata": {},
   "outputs": [],
   "source": [
    "# torch.save(model, 'lstm_rel.pt')"
   ]
  },
  {
   "cell_type": "markdown",
   "metadata": {},
   "source": [
    "### (or) Load an already trained model and setup the mode to evaluation"
   ]
  },
  {
   "cell_type": "markdown",
   "metadata": {},
   "source": [
    "Once an optimal model is trained and saved, the model can be loaded in future for further steps. After loading the model, set the model to evaluation mode."
   ]
  },
  {
   "cell_type": "code",
   "execution_count": 16,
   "metadata": {},
   "outputs": [
    {
     "data": {
      "text/plain": [
       "LSTM(\n",
       "  (lstm): LSTM(1, 32, num_layers=2, batch_first=True)\n",
       "  (fc): Linear(in_features=32, out_features=1, bias=True)\n",
       ")"
      ]
     },
     "execution_count": 16,
     "metadata": {},
     "output_type": "execute_result"
    }
   ],
   "source": [
    "full_model_path = os.path.join(os.path.dirname(os.getcwd()), 'trained_models', 'lstm_rel.pt')\n",
    "model = torch.load(full_model_path)\n",
    "model.eval()"
   ]
  },
  {
   "cell_type": "markdown",
   "metadata": {},
   "source": [
    "### Predict on the hold-out dataset"
   ]
  },
  {
   "cell_type": "markdown",
   "metadata": {},
   "source": [
    "Forecast accuracy must be evaluated in order to determine the quality of forecasts predicted by the model. Forecast errors must be calculated in order to determine forecast accuracy. In this work, forecasting errors are computed using several error metrics\n",
    "<ul>\n",
    "    <li>Root Mean Square Error (RMSE)</li>\n",
    "    <li>Mean Absolute Percentage Error (MAPE)</li>    \n",
    "</ul>\n",
    "\n",
    "In this work, we also employ the coefficient of determination, often known as R2 or R-squared, which is a commonly used regression performance measure. "
   ]
  },
  {
   "cell_type": "code",
   "execution_count": 17,
   "metadata": {},
   "outputs": [
    {
     "name": "stdout",
     "output_type": "stream",
     "text": [
      "Test Score\n",
      "MAPE: 0.05\n",
      "R-Squared: 0.8750267436432391\n",
      "RMSE:  129.89433806944783\n"
     ]
    }
   ],
   "source": [
    "# make predictions\n",
    "y_test_pred = model(x_test)\n",
    "\n",
    "# invert predictions\n",
    "y_test_pred = scaler.inverse_transform(y_test_pred.detach().numpy())\n",
    "y_test = scaler.inverse_transform(y_test_lstm.detach().numpy())\n",
    "\n",
    "# calculate root mean squared error\n",
    "test_error = mean_absolute_percentage_error(y_test[:,0], y_test_pred[:,0])\n",
    "accuracy_reg = r2_score(y_test[:, 0], y_test_pred[:, 0])\n",
    "rmse = math.sqrt(mean_squared_error(y_test[:,0], y_test_pred[:,0]))\n",
    "print('Test Score')\n",
    "print('MAPE: %.2f' % (test_error))\n",
    "print(f'R-Squared: {accuracy_reg}')\n",
    "print('RMSE: ', rmse)\n",
    "\n",
    "preds = y_test_pred[:, 0]\n",
    "gt = y_test[:, 0]"
   ]
  },
  {
   "cell_type": "code",
   "execution_count": 18,
   "metadata": {},
   "outputs": [
    {
     "data": {
      "image/png": "[encoded data removed]",
      "text/plain": [
       "<Figure size 864x360 with 1 Axes>"
      ]
     },
     "metadata": {
      "needs_background": "light"
     },
     "output_type": "display_data"
    }
   ],
   "source": [
    "# Visualize entire dataset and predictions of the model on hold-out dataset\n",
    "fig, ax = plt.subplots(figsize=(12,5))\n",
    "ax.plot(data.index, data['close'], c='b', label='Actual close price')\n",
    "ax.plot(data.index[-actual_test_len:], y_test_pred[:,0], c='r', label='Predicted close price')\n",
    "ax.set_xlabel('Time', fontsize=13, labelpad=15)\n",
    "ax.set_ylabel('Closing price (INR)', fontsize=13,  labelpad=10)\n",
    "ax.tick_params(which='both', width=1, length=7)\n",
    "ax.tick_params(which='minor', length=4)\n",
    "plt.minorticks_on()\n",
    "ax.legend(loc='best')\n",
    "plt.show()\n"
   ]
  },
  {
   "cell_type": "code",
   "execution_count": 19,
   "metadata": {},
   "outputs": [
    {
     "data": {
      "image/png": "[encoded data removed]",
      "text/plain": [
       "<Figure size 864x360 with 1 Axes>"
      ]
     },
     "metadata": {
      "needs_background": "light"
     },
     "output_type": "display_data"
    }
   ],
   "source": [
    "x_range = np.arange(0, len(y_test[:,0]))\n",
    "\n",
    "# Visualize ground truth and predictions of the model on hold-out dataset\n",
    "fig, ax = plt.subplots(figsize=(12,5))\n",
    "ax.plot(x_range, y_test[:,0], c='b', label='Actual close price')\n",
    "ax.plot(x_range, y_test_pred[:,0], c='r', label='Predicted close price')\n",
    "ax.set_xlabel('Time', fontsize=13, labelpad=15)\n",
    "ax.set_ylabel('Closing price (INR)', fontsize=13,  labelpad=10)\n",
    "ax.tick_params(which='both', width=1, length=7)\n",
    "ax.tick_params(which='minor', length=4)\n",
    "plt.minorticks_on()\n",
    "ax.legend(loc='best')\n",
    "plt.show()\n"
   ]
  },
  {
   "cell_type": "markdown",
   "metadata": {},
   "source": [
    "### Evaluate how performance of model varies with non-stationarity in hold-out dataset"
   ]
  },
  {
   "cell_type": "code",
   "execution_count": 20,
   "metadata": {},
   "outputs": [],
   "source": [
    "def evaluate_performance_variation(subset_size: int):\n",
    "\n",
    "    \"\"\"This function evaluates performance of forecasting model over different subsets of hold-out dataset.\n",
    "\n",
    "    :param: size of subsets considered for dividing hold-out dataset into several blocks.\n",
    "    :type subset_size: int\n",
    "    :return: Performance measures across different data instances.\n",
    "    :rtype: DataFrame\n",
    "    \"\"\"    \n",
    "    \n",
    "    r2_list = []\n",
    "    rmse_list = []\n",
    "    mape_list = []\n",
    "    dataset_range = []\n",
    "\n",
    "    num_subsets = actual_test_len / subset_size\n",
    "\n",
    "    if((math.ceil(num_subsets) - num_subsets) < 0.02):\n",
    "        num_subsets = math.ceil(num_subsets)\n",
    "    else:\n",
    "        num_subsets = math.floor(num_subsets)\n",
    "    \n",
    "    for i in range(num_subsets):\n",
    "    \n",
    "        X1, X2 = gt[i*subset_size : (i+1)*subset_size], preds[i*subset_size : (i+1)*subset_size]\n",
    "\n",
    "        rmse = math.sqrt(mean_squared_error(X1, X2))\n",
    "        mape = mean_absolute_percentage_error(X1, X2)*100  #Convert the MAPE values to 0-100 from 0-1.\n",
    "        r2 = r2_score(X1, X2)\n",
    "        rmse_list.append(rmse)\n",
    "        mape_list.append(mape)\n",
    "        r2_list.append(r2)\n",
    "        \n",
    "        dataset_range.append(f'{i*subset_size} : {(i+1)*subset_size}')\n",
    "    \n",
    "\n",
    "    accuracy = { \"Data Instance\" : dataset_range,             \n",
    "        \"RMSE\" : rmse_list,\n",
    "        \"MAPE\" : mape_list,\n",
    "        \"R-Squared\": r2_list\n",
    "    }\n",
    "\n",
    "    acc_df = pd.DataFrame(accuracy)\n",
    "\n",
    "    return acc_df"
   ]
  },
  {
   "cell_type": "code",
   "execution_count": 21,
   "metadata": {},
   "outputs": [
    {
     "data": {
      "text/html": [
       "<div>\n",
       "<style scoped>\n",
       "    .dataframe tbody tr th:only-of-type {\n",
       "        vertical-align: middle;\n",
       "    }\n",
       "\n",
       "    .dataframe tbody tr th {\n",
       "        vertical-align: top;\n",
       "    }\n",
       "\n",
       "    .dataframe thead th {\n",
       "        text-align: right;\n",
       "    }\n",
       "</style>\n",
       "<table border=\"1\" class=\"dataframe\">\n",
       "  <thead>\n",
       "    <tr style=\"text-align: right;\">\n",
       "      <th></th>\n",
       "      <th>Data Instance</th>\n",
       "      <th>RMSE</th>\n",
       "      <th>MAPE</th>\n",
       "      <th>R-Squared</th>\n",
       "    </tr>\n",
       "  </thead>\n",
       "  <tbody>\n",
       "    <tr>\n",
       "      <th>0</th>\n",
       "      <td>0 : 100</td>\n",
       "      <td>27.891850</td>\n",
       "      <td>1.669585</td>\n",
       "      <td>0.810739</td>\n",
       "    </tr>\n",
       "    <tr>\n",
       "      <th>1</th>\n",
       "      <td>100 : 200</td>\n",
       "      <td>37.081407</td>\n",
       "      <td>1.970304</td>\n",
       "      <td>0.919765</td>\n",
       "    </tr>\n",
       "    <tr>\n",
       "      <th>2</th>\n",
       "      <td>200 : 300</td>\n",
       "      <td>103.022923</td>\n",
       "      <td>4.612120</td>\n",
       "      <td>0.906988</td>\n",
       "    </tr>\n",
       "    <tr>\n",
       "      <th>3</th>\n",
       "      <td>300 : 400</td>\n",
       "      <td>185.581729</td>\n",
       "      <td>8.164647</td>\n",
       "      <td>-1.370957</td>\n",
       "    </tr>\n",
       "    <tr>\n",
       "      <th>4</th>\n",
       "      <td>400 : 500</td>\n",
       "      <td>153.534866</td>\n",
       "      <td>7.069484</td>\n",
       "      <td>-2.091900</td>\n",
       "    </tr>\n",
       "  </tbody>\n",
       "</table>\n",
       "</div>"
      ],
      "text/plain": [
       "  Data Instance        RMSE      MAPE  R-Squared\n",
       "0       0 : 100   27.891850  1.669585   0.810739\n",
       "1     100 : 200   37.081407  1.970304   0.919765\n",
       "2     200 : 300  103.022923  4.612120   0.906988\n",
       "3     300 : 400  185.581729  8.164647  -1.370957\n",
       "4     400 : 500  153.534866  7.069484  -2.091900"
      ]
     },
     "execution_count": 21,
     "metadata": {},
     "output_type": "execute_result"
    }
   ],
   "source": [
    "acc_df_1 = evaluate_performance_variation(100)\n",
    "acc_df_1"
   ]
  },
  {
   "cell_type": "code",
   "execution_count": 22,
   "metadata": {},
   "outputs": [
    {
     "data": {
      "text/html": [
       "<div>\n",
       "<style scoped>\n",
       "    .dataframe tbody tr th:only-of-type {\n",
       "        vertical-align: middle;\n",
       "    }\n",
       "\n",
       "    .dataframe tbody tr th {\n",
       "        vertical-align: top;\n",
       "    }\n",
       "\n",
       "    .dataframe thead th {\n",
       "        text-align: right;\n",
       "    }\n",
       "</style>\n",
       "<table border=\"1\" class=\"dataframe\">\n",
       "  <thead>\n",
       "    <tr style=\"text-align: right;\">\n",
       "      <th></th>\n",
       "      <th>Data Instance</th>\n",
       "      <th>RMSE</th>\n",
       "      <th>MAPE</th>\n",
       "      <th>R-Squared</th>\n",
       "    </tr>\n",
       "  </thead>\n",
       "  <tbody>\n",
       "    <tr>\n",
       "      <th>0</th>\n",
       "      <td>0 : 70</td>\n",
       "      <td>29.628983</td>\n",
       "      <td>1.749787</td>\n",
       "      <td>0.685558</td>\n",
       "    </tr>\n",
       "    <tr>\n",
       "      <th>1</th>\n",
       "      <td>70 : 140</td>\n",
       "      <td>26.856679</td>\n",
       "      <td>1.518385</td>\n",
       "      <td>0.952918</td>\n",
       "    </tr>\n",
       "    <tr>\n",
       "      <th>2</th>\n",
       "      <td>140 : 210</td>\n",
       "      <td>47.133102</td>\n",
       "      <td>2.755424</td>\n",
       "      <td>0.944063</td>\n",
       "    </tr>\n",
       "    <tr>\n",
       "      <th>3</th>\n",
       "      <td>210 : 280</td>\n",
       "      <td>63.627978</td>\n",
       "      <td>3.246228</td>\n",
       "      <td>0.902331</td>\n",
       "    </tr>\n",
       "    <tr>\n",
       "      <th>4</th>\n",
       "      <td>280 : 350</td>\n",
       "      <td>216.608491</td>\n",
       "      <td>9.647360</td>\n",
       "      <td>-4.736759</td>\n",
       "    </tr>\n",
       "    <tr>\n",
       "      <th>5</th>\n",
       "      <td>350 : 420</td>\n",
       "      <td>132.016948</td>\n",
       "      <td>6.219833</td>\n",
       "      <td>-5.616918</td>\n",
       "    </tr>\n",
       "    <tr>\n",
       "      <th>6</th>\n",
       "      <td>420 : 490</td>\n",
       "      <td>151.742606</td>\n",
       "      <td>7.126105</td>\n",
       "      <td>-2.444127</td>\n",
       "    </tr>\n",
       "    <tr>\n",
       "      <th>7</th>\n",
       "      <td>490 : 560</td>\n",
       "      <td>200.172318</td>\n",
       "      <td>9.120893</td>\n",
       "      <td>-7.141950</td>\n",
       "    </tr>\n",
       "  </tbody>\n",
       "</table>\n",
       "</div>"
      ],
      "text/plain": [
       "  Data Instance        RMSE      MAPE  R-Squared\n",
       "0        0 : 70   29.628983  1.749787   0.685558\n",
       "1      70 : 140   26.856679  1.518385   0.952918\n",
       "2     140 : 210   47.133102  2.755424   0.944063\n",
       "3     210 : 280   63.627978  3.246228   0.902331\n",
       "4     280 : 350  216.608491  9.647360  -4.736759\n",
       "5     350 : 420  132.016948  6.219833  -5.616918\n",
       "6     420 : 490  151.742606  7.126105  -2.444127\n",
       "7     490 : 560  200.172318  9.120893  -7.141950"
      ]
     },
     "execution_count": 22,
     "metadata": {},
     "output_type": "execute_result"
    }
   ],
   "source": [
    "acc_df_2 = evaluate_performance_variation(70)\n",
    "acc_df_2"
   ]
  },
  {
   "cell_type": "code",
   "execution_count": 23,
   "metadata": {},
   "outputs": [
    {
     "data": {
      "text/html": [
       "<div>\n",
       "<style scoped>\n",
       "    .dataframe tbody tr th:only-of-type {\n",
       "        vertical-align: middle;\n",
       "    }\n",
       "\n",
       "    .dataframe tbody tr th {\n",
       "        vertical-align: top;\n",
       "    }\n",
       "\n",
       "    .dataframe thead th {\n",
       "        text-align: right;\n",
       "    }\n",
       "</style>\n",
       "<table border=\"1\" class=\"dataframe\">\n",
       "  <thead>\n",
       "    <tr style=\"text-align: right;\">\n",
       "      <th></th>\n",
       "      <th>Data Instance</th>\n",
       "      <th>RMSE</th>\n",
       "      <th>MAPE</th>\n",
       "      <th>R-Squared</th>\n",
       "    </tr>\n",
       "  </thead>\n",
       "  <tbody>\n",
       "    <tr>\n",
       "      <th>0</th>\n",
       "      <td>0 : 50</td>\n",
       "      <td>21.862279</td>\n",
       "      <td>1.466220</td>\n",
       "      <td>0.844714</td>\n",
       "    </tr>\n",
       "    <tr>\n",
       "      <th>1</th>\n",
       "      <td>50 : 100</td>\n",
       "      <td>32.832169</td>\n",
       "      <td>1.872950</td>\n",
       "      <td>0.785726</td>\n",
       "    </tr>\n",
       "    <tr>\n",
       "      <th>2</th>\n",
       "      <td>100 : 150</td>\n",
       "      <td>29.439387</td>\n",
       "      <td>1.586830</td>\n",
       "      <td>0.658086</td>\n",
       "    </tr>\n",
       "    <tr>\n",
       "      <th>3</th>\n",
       "      <td>150 : 200</td>\n",
       "      <td>43.397975</td>\n",
       "      <td>2.353779</td>\n",
       "      <td>0.921883</td>\n",
       "    </tr>\n",
       "    <tr>\n",
       "      <th>4</th>\n",
       "      <td>200 : 250</td>\n",
       "      <td>55.269046</td>\n",
       "      <td>3.517237</td>\n",
       "      <td>0.917531</td>\n",
       "    </tr>\n",
       "    <tr>\n",
       "      <th>5</th>\n",
       "      <td>250 : 300</td>\n",
       "      <td>134.806451</td>\n",
       "      <td>5.707004</td>\n",
       "      <td>0.557694</td>\n",
       "    </tr>\n",
       "    <tr>\n",
       "      <th>6</th>\n",
       "      <td>300 : 350</td>\n",
       "      <td>226.208784</td>\n",
       "      <td>9.980036</td>\n",
       "      <td>-7.274816</td>\n",
       "    </tr>\n",
       "    <tr>\n",
       "      <th>7</th>\n",
       "      <td>350 : 400</td>\n",
       "      <td>133.081712</td>\n",
       "      <td>6.349260</td>\n",
       "      <td>-8.686428</td>\n",
       "    </tr>\n",
       "    <tr>\n",
       "      <th>8</th>\n",
       "      <td>400 : 450</td>\n",
       "      <td>159.150755</td>\n",
       "      <td>7.250109</td>\n",
       "      <td>-1.768542</td>\n",
       "    </tr>\n",
       "    <tr>\n",
       "      <th>9</th>\n",
       "      <td>450 : 500</td>\n",
       "      <td>147.705610</td>\n",
       "      <td>6.888860</td>\n",
       "      <td>-2.896008</td>\n",
       "    </tr>\n",
       "    <tr>\n",
       "      <th>10</th>\n",
       "      <td>500 : 550</td>\n",
       "      <td>193.947591</td>\n",
       "      <td>8.905186</td>\n",
       "      <td>-9.664516</td>\n",
       "    </tr>\n",
       "  </tbody>\n",
       "</table>\n",
       "</div>"
      ],
      "text/plain": [
       "   Data Instance        RMSE      MAPE  R-Squared\n",
       "0         0 : 50   21.862279  1.466220   0.844714\n",
       "1       50 : 100   32.832169  1.872950   0.785726\n",
       "2      100 : 150   29.439387  1.586830   0.658086\n",
       "3      150 : 200   43.397975  2.353779   0.921883\n",
       "4      200 : 250   55.269046  3.517237   0.917531\n",
       "5      250 : 300  134.806451  5.707004   0.557694\n",
       "6      300 : 350  226.208784  9.980036  -7.274816\n",
       "7      350 : 400  133.081712  6.349260  -8.686428\n",
       "8      400 : 450  159.150755  7.250109  -1.768542\n",
       "9      450 : 500  147.705610  6.888860  -2.896008\n",
       "10     500 : 550  193.947591  8.905186  -9.664516"
      ]
     },
     "execution_count": 23,
     "metadata": {},
     "output_type": "execute_result"
    }
   ],
   "source": [
    "acc_df_3 = evaluate_performance_variation(50)\n",
    "acc_df_3"
   ]
  },
  {
   "cell_type": "markdown",
   "metadata": {},
   "source": [
    "The results of the performance evaluation on test sets indicate that when more non-stationarities in the test set are introduced after the 250th time step, the model's fit begins to get arbitrarily poorer. This observation holds true for all three performance metrics: RMSE, MAPE, and R-Squared. \n",
    "\n",
    "The observed performance tendency is unaffected by changing the length of test subsets from 50 to 100."
   ]
  },
  {
   "cell_type": "markdown",
   "metadata": {},
   "source": [
    "### Evaluate SDD between training set and subsets of hold-out dataset"
   ]
  },
  {
   "cell_type": "code",
   "execution_count": 24,
   "metadata": {},
   "outputs": [],
   "source": [
    "def get_statistical_dist_measures(X_train, X_test):  \n",
    "\n",
    "    \"\"\"Computes SDD between training set and hold-out sets using several ECDF-based distance measures\n",
    "\n",
    "    :return: Statistical distance measures\n",
    "    :rtype: Dictionary\n",
    "    \"\"\"     \n",
    "\n",
    "    CVM_distance = CramerVonMisesDistance().compute_distance(X_train, X_test)\n",
    "    Anderson_Darling_distance = AndersonDarlingDistance().compute_distance(X_train, X_test)\n",
    "    Kolmogorov_Smirnov_distance = KolmogorovSmirnovDistance().compute_distance(X_train, X_test)\n",
    "    Kuiper_distance = KuiperDistance().compute_distance(X_train, X_test)\n",
    "    Wasserstein_distance = WassersteinDistance().compute_distance(X_train, X_test)\n",
    "    DTS_distance = DTSDistance().compute_distance(X_train, X_test)   \n",
    "    \n",
    "    # Returning dictionary, for efficient and fast DataFrame creation. Returns mean for each distance.    \n",
    "    return {'Anderson_Darling_dist': Anderson_Darling_distance,\n",
    "            'CVM_dist': CVM_distance,\n",
    "            'DTS_dist':DTS_distance,\n",
    "            'Kolmogorov_Smirnov_dist':Kolmogorov_Smirnov_distance,\n",
    "            'Kuiper_dist': Kuiper_distance,\n",
    "            'Wasserstein_dist': Wasserstein_distance}"
   ]
  },
  {
   "cell_type": "code",
   "execution_count": 25,
   "metadata": {},
   "outputs": [],
   "source": [
    "def evaluate_sdd(subset_size: int):\n",
    "\n",
    "    \"\"\"This function evaluates statistical distance dissimilarity of forecasting model over different subsets of hold-out dataset.\n",
    "\n",
    "    :param: size of subsets considered for dividing hold-out dataset into several blocks.\n",
    "    :type subset_size: int\n",
    "    :return: SDD measured between training set and different data instances.\n",
    "    :rtype: DataFrame\n",
    "    \"\"\"    \n",
    "\n",
    "    dataset_range = []\n",
    "    sdd = []\n",
    "\n",
    "    num_subsets = actual_test_len / subset_size\n",
    "\n",
    "    if((math.ceil(num_subsets) - num_subsets) < 0.02):\n",
    "        num_subsets = math.ceil(num_subsets)\n",
    "    else:\n",
    "        num_subsets = math.floor(num_subsets)\n",
    "    \n",
    "    for i in range(num_subsets):\n",
    "\n",
    "        X1, X2 = train_set, gt[i*subset_size : (i+1)*subset_size]\n",
    "        distances = get_statistical_dist_measures(X1, X2)\n",
    "\n",
    "        sdd.append(distances)\n",
    "        dataset_range.append(f'{i*subset_size} : {(i+1)*subset_size}')\n",
    "    \n",
    "    sdd_df = pd.DataFrame(sdd)\n",
    "    sdd_df.insert(0, 'Data Instance', dataset_range)\n",
    "\n",
    "    return sdd_df"
   ]
  },
  {
   "cell_type": "code",
   "execution_count": 26,
   "metadata": {},
   "outputs": [
    {
     "data": {
      "text/html": [
       "<div>\n",
       "<style scoped>\n",
       "    .dataframe tbody tr th:only-of-type {\n",
       "        vertical-align: middle;\n",
       "    }\n",
       "\n",
       "    .dataframe tbody tr th {\n",
       "        vertical-align: top;\n",
       "    }\n",
       "\n",
       "    .dataframe thead th {\n",
       "        text-align: right;\n",
       "    }\n",
       "</style>\n",
       "<table border=\"1\" class=\"dataframe\">\n",
       "  <thead>\n",
       "    <tr style=\"text-align: right;\">\n",
       "      <th></th>\n",
       "      <th>Data Instance</th>\n",
       "      <th>Anderson_Darling_dist</th>\n",
       "      <th>CVM_dist</th>\n",
       "      <th>DTS_dist</th>\n",
       "      <th>Kolmogorov_Smirnov_dist</th>\n",
       "      <th>Kuiper_dist</th>\n",
       "      <th>Wasserstein_dist</th>\n",
       "    </tr>\n",
       "  </thead>\n",
       "  <tbody>\n",
       "    <tr>\n",
       "      <th>0</th>\n",
       "      <td>0 : 100</td>\n",
       "      <td>44.943650</td>\n",
       "      <td>919.306356</td>\n",
       "      <td>17.202077</td>\n",
       "      <td>0.875579</td>\n",
       "      <td>0.895440</td>\n",
       "      <td>308.084918</td>\n",
       "    </tr>\n",
       "    <tr>\n",
       "      <th>1</th>\n",
       "      <td>100 : 200</td>\n",
       "      <td>53.360855</td>\n",
       "      <td>1005.792038</td>\n",
       "      <td>32.800319</td>\n",
       "      <td>0.860846</td>\n",
       "      <td>0.865596</td>\n",
       "      <td>489.908211</td>\n",
       "    </tr>\n",
       "    <tr>\n",
       "      <th>2</th>\n",
       "      <td>200 : 300</td>\n",
       "      <td>53.258034</td>\n",
       "      <td>974.076805</td>\n",
       "      <td>60.514697</td>\n",
       "      <td>0.781192</td>\n",
       "      <td>0.781192</td>\n",
       "      <td>621.147484</td>\n",
       "    </tr>\n",
       "    <tr>\n",
       "      <th>3</th>\n",
       "      <td>300 : 400</td>\n",
       "      <td>60.854420</td>\n",
       "      <td>1085.242038</td>\n",
       "      <td>99.163742</td>\n",
       "      <td>1.000000</td>\n",
       "      <td>1.000000</td>\n",
       "      <td>1108.606004</td>\n",
       "    </tr>\n",
       "    <tr>\n",
       "      <th>4</th>\n",
       "      <td>400 : 500</td>\n",
       "      <td>60.850445</td>\n",
       "      <td>1085.172038</td>\n",
       "      <td>89.886198</td>\n",
       "      <td>1.000000</td>\n",
       "      <td>1.000000</td>\n",
       "      <td>1034.509996</td>\n",
       "    </tr>\n",
       "  </tbody>\n",
       "</table>\n",
       "</div>"
      ],
      "text/plain": [
       "  Data Instance  Anderson_Darling_dist     CVM_dist   DTS_dist  \\\n",
       "0       0 : 100              44.943650   919.306356  17.202077   \n",
       "1     100 : 200              53.360855  1005.792038  32.800319   \n",
       "2     200 : 300              53.258034   974.076805  60.514697   \n",
       "3     300 : 400              60.854420  1085.242038  99.163742   \n",
       "4     400 : 500              60.850445  1085.172038  89.886198   \n",
       "\n",
       "   Kolmogorov_Smirnov_dist  Kuiper_dist  Wasserstein_dist  \n",
       "0                 0.875579     0.895440        308.084918  \n",
       "1                 0.860846     0.865596        489.908211  \n",
       "2                 0.781192     0.781192        621.147484  \n",
       "3                 1.000000     1.000000       1108.606004  \n",
       "4                 1.000000     1.000000       1034.509996  "
      ]
     },
     "execution_count": 26,
     "metadata": {},
     "output_type": "execute_result"
    }
   ],
   "source": [
    "sdd_df_1 = evaluate_sdd(100)\n",
    "sdd_df_1"
   ]
  },
  {
   "cell_type": "code",
   "execution_count": 27,
   "metadata": {},
   "outputs": [
    {
     "data": {
      "text/html": [
       "<div>\n",
       "<style scoped>\n",
       "    .dataframe tbody tr th:only-of-type {\n",
       "        vertical-align: middle;\n",
       "    }\n",
       "\n",
       "    .dataframe tbody tr th {\n",
       "        vertical-align: top;\n",
       "    }\n",
       "\n",
       "    .dataframe thead th {\n",
       "        text-align: right;\n",
       "    }\n",
       "</style>\n",
       "<table border=\"1\" class=\"dataframe\">\n",
       "  <thead>\n",
       "    <tr style=\"text-align: right;\">\n",
       "      <th></th>\n",
       "      <th>Data Instance</th>\n",
       "      <th>Anderson_Darling_dist</th>\n",
       "      <th>CVM_dist</th>\n",
       "      <th>DTS_dist</th>\n",
       "      <th>Kolmogorov_Smirnov_dist</th>\n",
       "      <th>Kuiper_dist</th>\n",
       "      <th>Wasserstein_dist</th>\n",
       "    </tr>\n",
       "  </thead>\n",
       "  <tbody>\n",
       "    <tr>\n",
       "      <th>0</th>\n",
       "      <td>0 : 70</td>\n",
       "      <td>44.283804</td>\n",
       "      <td>900.000074</td>\n",
       "      <td>16.941659</td>\n",
       "      <td>0.871293</td>\n",
       "      <td>0.909289</td>\n",
       "      <td>298.587729</td>\n",
       "    </tr>\n",
       "    <tr>\n",
       "      <th>1</th>\n",
       "      <td>70 : 140</td>\n",
       "      <td>52.794799</td>\n",
       "      <td>991.246422</td>\n",
       "      <td>32.132409</td>\n",
       "      <td>0.896373</td>\n",
       "      <td>0.901123</td>\n",
       "      <td>459.474070</td>\n",
       "    </tr>\n",
       "    <tr>\n",
       "      <th>2</th>\n",
       "      <td>140 : 210</td>\n",
       "      <td>46.568699</td>\n",
       "      <td>876.615075</td>\n",
       "      <td>27.443920</td>\n",
       "      <td>0.686763</td>\n",
       "      <td>0.695830</td>\n",
       "      <td>392.110418</td>\n",
       "    </tr>\n",
       "    <tr>\n",
       "      <th>3</th>\n",
       "      <td>210 : 280</td>\n",
       "      <td>56.131990</td>\n",
       "      <td>1014.171293</td>\n",
       "      <td>51.617367</td>\n",
       "      <td>0.876906</td>\n",
       "      <td>0.876906</td>\n",
       "      <td>563.165340</td>\n",
       "    </tr>\n",
       "    <tr>\n",
       "      <th>4</th>\n",
       "      <td>280 : 350</td>\n",
       "      <td>61.803354</td>\n",
       "      <td>1071.067752</td>\n",
       "      <td>119.428512</td>\n",
       "      <td>1.000000</td>\n",
       "      <td>1.000000</td>\n",
       "      <td>1182.599637</td>\n",
       "    </tr>\n",
       "    <tr>\n",
       "      <th>5</th>\n",
       "      <td>350 : 420</td>\n",
       "      <td>61.714581</td>\n",
       "      <td>1070.524895</td>\n",
       "      <td>94.386384</td>\n",
       "      <td>1.000000</td>\n",
       "      <td>1.000000</td>\n",
       "      <td>996.976089</td>\n",
       "    </tr>\n",
       "    <tr>\n",
       "      <th>6</th>\n",
       "      <td>420 : 490</td>\n",
       "      <td>61.803354</td>\n",
       "      <td>1071.067752</td>\n",
       "      <td>102.466280</td>\n",
       "      <td>1.000000</td>\n",
       "      <td>1.000000</td>\n",
       "      <td>1042.103199</td>\n",
       "    </tr>\n",
       "    <tr>\n",
       "      <th>7</th>\n",
       "      <td>490 : 560</td>\n",
       "      <td>61.699195</td>\n",
       "      <td>1069.726966</td>\n",
       "      <td>115.060449</td>\n",
       "      <td>1.000000</td>\n",
       "      <td>1.000000</td>\n",
       "      <td>1155.867567</td>\n",
       "    </tr>\n",
       "  </tbody>\n",
       "</table>\n",
       "</div>"
      ],
      "text/plain": [
       "  Data Instance  Anderson_Darling_dist     CVM_dist    DTS_dist  \\\n",
       "0        0 : 70              44.283804   900.000074   16.941659   \n",
       "1      70 : 140              52.794799   991.246422   32.132409   \n",
       "2     140 : 210              46.568699   876.615075   27.443920   \n",
       "3     210 : 280              56.131990  1014.171293   51.617367   \n",
       "4     280 : 350              61.803354  1071.067752  119.428512   \n",
       "5     350 : 420              61.714581  1070.524895   94.386384   \n",
       "6     420 : 490              61.803354  1071.067752  102.466280   \n",
       "7     490 : 560              61.699195  1069.726966  115.060449   \n",
       "\n",
       "   Kolmogorov_Smirnov_dist  Kuiper_dist  Wasserstein_dist  \n",
       "0                 0.871293     0.909289        298.587729  \n",
       "1                 0.896373     0.901123        459.474070  \n",
       "2                 0.686763     0.695830        392.110418  \n",
       "3                 0.876906     0.876906        563.165340  \n",
       "4                 1.000000     1.000000       1182.599637  \n",
       "5                 1.000000     1.000000        996.976089  \n",
       "6                 1.000000     1.000000       1042.103199  \n",
       "7                 1.000000     1.000000       1155.867567  "
      ]
     },
     "execution_count": 27,
     "metadata": {},
     "output_type": "execute_result"
    }
   ],
   "source": [
    "sdd_df_2 = evaluate_sdd(70)\n",
    "sdd_df_2"
   ]
  },
  {
   "cell_type": "code",
   "execution_count": 28,
   "metadata": {},
   "outputs": [
    {
     "data": {
      "text/html": [
       "<div>\n",
       "<style scoped>\n",
       "    .dataframe tbody tr th:only-of-type {\n",
       "        vertical-align: middle;\n",
       "    }\n",
       "\n",
       "    .dataframe tbody tr th {\n",
       "        vertical-align: top;\n",
       "    }\n",
       "\n",
       "    .dataframe thead th {\n",
       "        text-align: right;\n",
       "    }\n",
       "</style>\n",
       "<table border=\"1\" class=\"dataframe\">\n",
       "  <thead>\n",
       "    <tr style=\"text-align: right;\">\n",
       "      <th></th>\n",
       "      <th>Data Instance</th>\n",
       "      <th>Anderson_Darling_dist</th>\n",
       "      <th>CVM_dist</th>\n",
       "      <th>DTS_dist</th>\n",
       "      <th>Kolmogorov_Smirnov_dist</th>\n",
       "      <th>Kuiper_dist</th>\n",
       "      <th>Wasserstein_dist</th>\n",
       "    </tr>\n",
       "  </thead>\n",
       "  <tbody>\n",
       "    <tr>\n",
       "      <th>0</th>\n",
       "      <td>0 : 50</td>\n",
       "      <td>44.599001</td>\n",
       "      <td>896.710674</td>\n",
       "      <td>17.721299</td>\n",
       "      <td>0.870898</td>\n",
       "      <td>0.908895</td>\n",
       "      <td>305.233034</td>\n",
       "    </tr>\n",
       "    <tr>\n",
       "      <th>1</th>\n",
       "      <td>50 : 100</td>\n",
       "      <td>45.295833</td>\n",
       "      <td>903.125579</td>\n",
       "      <td>18.685398</td>\n",
       "      <td>0.892919</td>\n",
       "      <td>0.912781</td>\n",
       "      <td>315.430004</td>\n",
       "    </tr>\n",
       "    <tr>\n",
       "      <th>2</th>\n",
       "      <td>100 : 150</td>\n",
       "      <td>57.083393</td>\n",
       "      <td>1027.650915</td>\n",
       "      <td>41.374411</td>\n",
       "      <td>0.978843</td>\n",
       "      <td>0.983592</td>\n",
       "      <td>551.675208</td>\n",
       "    </tr>\n",
       "    <tr>\n",
       "      <th>3</th>\n",
       "      <td>150 : 200</td>\n",
       "      <td>50.479374</td>\n",
       "      <td>938.598826</td>\n",
       "      <td>30.527129</td>\n",
       "      <td>0.789620</td>\n",
       "      <td>0.798687</td>\n",
       "      <td>428.530418</td>\n",
       "    </tr>\n",
       "    <tr>\n",
       "      <th>4</th>\n",
       "      <td>200 : 250</td>\n",
       "      <td>44.727345</td>\n",
       "      <td>845.719689</td>\n",
       "      <td>24.344893</td>\n",
       "      <td>0.703109</td>\n",
       "      <td>0.712176</td>\n",
       "      <td>347.964178</td>\n",
       "    </tr>\n",
       "    <tr>\n",
       "      <th>5</th>\n",
       "      <td>250 : 300</td>\n",
       "      <td>62.150204</td>\n",
       "      <td>1057.568204</td>\n",
       "      <td>101.855598</td>\n",
       "      <td>0.986183</td>\n",
       "      <td>0.986183</td>\n",
       "      <td>894.880486</td>\n",
       "    </tr>\n",
       "    <tr>\n",
       "      <th>6</th>\n",
       "      <td>300 : 350</td>\n",
       "      <td>62.617000</td>\n",
       "      <td>1061.062038</td>\n",
       "      <td>138.547876</td>\n",
       "      <td>1.000000</td>\n",
       "      <td>1.000000</td>\n",
       "      <td>1211.124490</td>\n",
       "    </tr>\n",
       "    <tr>\n",
       "      <th>7</th>\n",
       "      <td>350 : 400</td>\n",
       "      <td>62.501299</td>\n",
       "      <td>1060.402038</td>\n",
       "      <td>105.951313</td>\n",
       "      <td>1.000000</td>\n",
       "      <td>1.000000</td>\n",
       "      <td>1005.486516</td>\n",
       "    </tr>\n",
       "    <tr>\n",
       "      <th>8</th>\n",
       "      <td>400 : 450</td>\n",
       "      <td>62.617000</td>\n",
       "      <td>1061.062038</td>\n",
       "      <td>116.984621</td>\n",
       "      <td>1.000000</td>\n",
       "      <td>1.000000</td>\n",
       "      <td>1050.169505</td>\n",
       "    </tr>\n",
       "    <tr>\n",
       "      <th>9</th>\n",
       "      <td>450 : 500</td>\n",
       "      <td>62.617000</td>\n",
       "      <td>1061.062038</td>\n",
       "      <td>112.451097</td>\n",
       "      <td>1.000000</td>\n",
       "      <td>1.000000</td>\n",
       "      <td>1018.613484</td>\n",
       "    </tr>\n",
       "    <tr>\n",
       "      <th>10</th>\n",
       "      <td>500 : 550</td>\n",
       "      <td>62.491058</td>\n",
       "      <td>1060.282038</td>\n",
       "      <td>129.521164</td>\n",
       "      <td>1.000000</td>\n",
       "      <td>1.000000</td>\n",
       "      <td>1156.919495</td>\n",
       "    </tr>\n",
       "  </tbody>\n",
       "</table>\n",
       "</div>"
      ],
      "text/plain": [
       "   Data Instance  Anderson_Darling_dist     CVM_dist    DTS_dist  \\\n",
       "0         0 : 50              44.599001   896.710674   17.721299   \n",
       "1       50 : 100              45.295833   903.125579   18.685398   \n",
       "2      100 : 150              57.083393  1027.650915   41.374411   \n",
       "3      150 : 200              50.479374   938.598826   30.527129   \n",
       "4      200 : 250              44.727345   845.719689   24.344893   \n",
       "5      250 : 300              62.150204  1057.568204  101.855598   \n",
       "6      300 : 350              62.617000  1061.062038  138.547876   \n",
       "7      350 : 400              62.501299  1060.402038  105.951313   \n",
       "8      400 : 450              62.617000  1061.062038  116.984621   \n",
       "9      450 : 500              62.617000  1061.062038  112.451097   \n",
       "10     500 : 550              62.491058  1060.282038  129.521164   \n",
       "\n",
       "    Kolmogorov_Smirnov_dist  Kuiper_dist  Wasserstein_dist  \n",
       "0                  0.870898     0.908895        305.233034  \n",
       "1                  0.892919     0.912781        315.430004  \n",
       "2                  0.978843     0.983592        551.675208  \n",
       "3                  0.789620     0.798687        428.530418  \n",
       "4                  0.703109     0.712176        347.964178  \n",
       "5                  0.986183     0.986183        894.880486  \n",
       "6                  1.000000     1.000000       1211.124490  \n",
       "7                  1.000000     1.000000       1005.486516  \n",
       "8                  1.000000     1.000000       1050.169505  \n",
       "9                  1.000000     1.000000       1018.613484  \n",
       "10                 1.000000     1.000000       1156.919495  "
      ]
     },
     "execution_count": 28,
     "metadata": {},
     "output_type": "execute_result"
    }
   ],
   "source": [
    "sdd_df_3 = evaluate_sdd(50)\n",
    "sdd_df_3"
   ]
  },
  {
   "cell_type": "markdown",
   "metadata": {},
   "source": [
    "The results of SDD computed using different ECDF-based distance measures between training set and several subsets of test data is presented. As distance measures like Kolmogorov-Smirnov and Kuiper are bounded between 0 and 1, they are likely to be useful when making a Boolean assessment, such as whether or not two distributions are the same, but it is not desired in other circumstances when the difference between two sets of data must be quantified.\n",
    "\n",
    "This work focuses on Wasserstein distance because of the following characteristics:\n",
    "<ul>\n",
    "    <li>Essentially area measured between two ECDFs.</li>\n",
    "    <li>Increases proportionally as distributions tend to grow apart.</li>\n",
    "    <li>Provides an arbitrary range of values.</li>\n",
    "    <li>Considers geometry between outcomes.</li>\n",
    "</ul>\n",
    "\n",
    "DTS distance is an improvement over WD and so has equivalent properties to Wasserstein distance. This is also evident from the results shown in above tables.  This work primarily emphasizes Wasserstein distance for estimating reliability and robustness, although DTS would also be a valid alternative.\n",
    "\n",
    "As for performance tendency, the observed SDD behaviour is unaffected by changing the length of test subsets from 50 to 100."
   ]
  },
  {
   "cell_type": "markdown",
   "metadata": {},
   "source": [
    "### Investiagte behaviour of SDD with Performance across different subsets of hold-out dataset"
   ]
  },
  {
   "cell_type": "markdown",
   "metadata": {},
   "source": [
    "After inverstiagting the behaviour of SDD and performance individually, we now investigate the correlation between them. To achieve this, we first visualize the relationship between SDD and different performance metrics and then perform curve fitting which establishes performance as a function of SDD. Here we implement a polynomial curve with degree 2 that was found adequately complex, exhibiting an improved fit for avaialable data variance."
   ]
  },
  {
   "cell_type": "code",
   "execution_count": 29,
   "metadata": {},
   "outputs": [
    {
     "data": {
      "text/html": [
       "<div>\n",
       "<style scoped>\n",
       "    .dataframe tbody tr th:only-of-type {\n",
       "        vertical-align: middle;\n",
       "    }\n",
       "\n",
       "    .dataframe tbody tr th {\n",
       "        vertical-align: top;\n",
       "    }\n",
       "\n",
       "    .dataframe thead th {\n",
       "        text-align: right;\n",
       "    }\n",
       "</style>\n",
       "<table border=\"1\" class=\"dataframe\">\n",
       "  <thead>\n",
       "    <tr style=\"text-align: right;\">\n",
       "      <th></th>\n",
       "      <th>Data Instance</th>\n",
       "      <th>RMSE</th>\n",
       "      <th>MAPE</th>\n",
       "      <th>R-Squared</th>\n",
       "      <th>Anderson_Darling_dist</th>\n",
       "      <th>CVM_dist</th>\n",
       "      <th>DTS_dist</th>\n",
       "      <th>Kolmogorov_Smirnov_dist</th>\n",
       "      <th>Kuiper_dist</th>\n",
       "      <th>Wasserstein_dist</th>\n",
       "    </tr>\n",
       "  </thead>\n",
       "  <tbody>\n",
       "    <tr>\n",
       "      <th>0</th>\n",
       "      <td>0 : 70</td>\n",
       "      <td>29.628983</td>\n",
       "      <td>1.749787</td>\n",
       "      <td>0.685558</td>\n",
       "      <td>44.283804</td>\n",
       "      <td>900.000074</td>\n",
       "      <td>16.941659</td>\n",
       "      <td>0.871293</td>\n",
       "      <td>0.909289</td>\n",
       "      <td>298.587729</td>\n",
       "    </tr>\n",
       "    <tr>\n",
       "      <th>1</th>\n",
       "      <td>70 : 140</td>\n",
       "      <td>26.856679</td>\n",
       "      <td>1.518385</td>\n",
       "      <td>0.952918</td>\n",
       "      <td>52.794799</td>\n",
       "      <td>991.246422</td>\n",
       "      <td>32.132409</td>\n",
       "      <td>0.896373</td>\n",
       "      <td>0.901123</td>\n",
       "      <td>459.474070</td>\n",
       "    </tr>\n",
       "    <tr>\n",
       "      <th>2</th>\n",
       "      <td>140 : 210</td>\n",
       "      <td>47.133102</td>\n",
       "      <td>2.755424</td>\n",
       "      <td>0.944063</td>\n",
       "      <td>46.568699</td>\n",
       "      <td>876.615075</td>\n",
       "      <td>27.443920</td>\n",
       "      <td>0.686763</td>\n",
       "      <td>0.695830</td>\n",
       "      <td>392.110418</td>\n",
       "    </tr>\n",
       "    <tr>\n",
       "      <th>3</th>\n",
       "      <td>210 : 280</td>\n",
       "      <td>63.627978</td>\n",
       "      <td>3.246228</td>\n",
       "      <td>0.902331</td>\n",
       "      <td>56.131990</td>\n",
       "      <td>1014.171293</td>\n",
       "      <td>51.617367</td>\n",
       "      <td>0.876906</td>\n",
       "      <td>0.876906</td>\n",
       "      <td>563.165340</td>\n",
       "    </tr>\n",
       "    <tr>\n",
       "      <th>4</th>\n",
       "      <td>280 : 350</td>\n",
       "      <td>216.608491</td>\n",
       "      <td>9.647360</td>\n",
       "      <td>-4.736759</td>\n",
       "      <td>61.803354</td>\n",
       "      <td>1071.067752</td>\n",
       "      <td>119.428512</td>\n",
       "      <td>1.000000</td>\n",
       "      <td>1.000000</td>\n",
       "      <td>1182.599637</td>\n",
       "    </tr>\n",
       "    <tr>\n",
       "      <th>5</th>\n",
       "      <td>350 : 420</td>\n",
       "      <td>132.016948</td>\n",
       "      <td>6.219833</td>\n",
       "      <td>-5.616918</td>\n",
       "      <td>61.714581</td>\n",
       "      <td>1070.524895</td>\n",
       "      <td>94.386384</td>\n",
       "      <td>1.000000</td>\n",
       "      <td>1.000000</td>\n",
       "      <td>996.976089</td>\n",
       "    </tr>\n",
       "    <tr>\n",
       "      <th>6</th>\n",
       "      <td>420 : 490</td>\n",
       "      <td>151.742606</td>\n",
       "      <td>7.126105</td>\n",
       "      <td>-2.444127</td>\n",
       "      <td>61.803354</td>\n",
       "      <td>1071.067752</td>\n",
       "      <td>102.466280</td>\n",
       "      <td>1.000000</td>\n",
       "      <td>1.000000</td>\n",
       "      <td>1042.103199</td>\n",
       "    </tr>\n",
       "    <tr>\n",
       "      <th>7</th>\n",
       "      <td>490 : 560</td>\n",
       "      <td>200.172318</td>\n",
       "      <td>9.120893</td>\n",
       "      <td>-7.141950</td>\n",
       "      <td>61.699195</td>\n",
       "      <td>1069.726966</td>\n",
       "      <td>115.060449</td>\n",
       "      <td>1.000000</td>\n",
       "      <td>1.000000</td>\n",
       "      <td>1155.867567</td>\n",
       "    </tr>\n",
       "  </tbody>\n",
       "</table>\n",
       "</div>"
      ],
      "text/plain": [
       "  Data Instance        RMSE      MAPE  R-Squared  Anderson_Darling_dist  \\\n",
       "0        0 : 70   29.628983  1.749787   0.685558              44.283804   \n",
       "1      70 : 140   26.856679  1.518385   0.952918              52.794799   \n",
       "2     140 : 210   47.133102  2.755424   0.944063              46.568699   \n",
       "3     210 : 280   63.627978  3.246228   0.902331              56.131990   \n",
       "4     280 : 350  216.608491  9.647360  -4.736759              61.803354   \n",
       "5     350 : 420  132.016948  6.219833  -5.616918              61.714581   \n",
       "6     420 : 490  151.742606  7.126105  -2.444127              61.803354   \n",
       "7     490 : 560  200.172318  9.120893  -7.141950              61.699195   \n",
       "\n",
       "      CVM_dist    DTS_dist  Kolmogorov_Smirnov_dist  Kuiper_dist  \\\n",
       "0   900.000074   16.941659                 0.871293     0.909289   \n",
       "1   991.246422   32.132409                 0.896373     0.901123   \n",
       "2   876.615075   27.443920                 0.686763     0.695830   \n",
       "3  1014.171293   51.617367                 0.876906     0.876906   \n",
       "4  1071.067752  119.428512                 1.000000     1.000000   \n",
       "5  1070.524895   94.386384                 1.000000     1.000000   \n",
       "6  1071.067752  102.466280                 1.000000     1.000000   \n",
       "7  1069.726966  115.060449                 1.000000     1.000000   \n",
       "\n",
       "   Wasserstein_dist  \n",
       "0        298.587729  \n",
       "1        459.474070  \n",
       "2        392.110418  \n",
       "3        563.165340  \n",
       "4       1182.599637  \n",
       "5        996.976089  \n",
       "6       1042.103199  \n",
       "7       1155.867567  "
      ]
     },
     "execution_count": 29,
     "metadata": {},
     "output_type": "execute_result"
    }
   ],
   "source": [
    "# Considered subset size is 70\n",
    "frames = [acc_df_2, sdd_df_2.iloc[:, 1:]]\n",
    "sdd_performance_df = pd.concat(frames, axis=1)\n",
    "sdd_performance_df"
   ]
  },
  {
   "cell_type": "code",
   "execution_count": 30,
   "metadata": {},
   "outputs": [
    {
     "data": {
      "application/vnd.plotly.v1+json": {
       "config": {
        "plotlyServerURL": "https://plot.ly"
       },
       "data": [
        {
         "hovertemplate": "SDD (Wasserstein distance)=%{x}<br>Accuracy (RMSE)=%{y}<extra></extra>",
         "legendgroup": "",
         "marker": {
          "color": "red",
          "size": 10,
          "symbol": "circle"
         },
         "mode": "markers",
         "name": "",
         "orientation": "v",
         "showlegend": false,
         "type": "scatter",
         "x": [
          298.58772916570587,
          459.474069726622,
          392.1104183442562,
          563.1653400879277,
          1182.5996366141433,
          996.976089250869,
          1042.10319932341,
          1155.8675671508292
         ],
         "xaxis": "x",
         "y": [
          29.628983241907218,
          26.856678665926726,
          47.13310192290552,
          63.62797758258548,
          216.60849078752662,
          132.01694818990097,
          151.74260561679768,
          200.17231834409571
         ],
         "yaxis": "y"
        }
       ],
       "layout": {
        "legend": {
         "tracegroupgap": 0
        },
        "margin": {
         "t": 60
        },
        "template": {
         "data": {
          "bar": [
           {
            "error_x": {
             "color": "#2a3f5f"
            },
            "error_y": {
             "color": "#2a3f5f"
            },
            "marker": {
             "line": {
              "color": "#E5ECF6",
              "width": 0.5
             },
             "pattern": {
              "fillmode": "overlay",
              "size": 10,
              "solidity": 0.2
             }
            },
            "type": "bar"
           }
          ],
          "barpolar": [
           {
            "marker": {
             "line": {
              "color": "#E5ECF6",
              "width": 0.5
             },
             "pattern": {
              "fillmode": "overlay",
              "size": 10,
              "solidity": 0.2
             }
            },
            "type": "barpolar"
           }
          ],
          "carpet": [
           {
            "aaxis": {
             "endlinecolor": "#2a3f5f",
             "gridcolor": "white",
             "linecolor": "white",
             "minorgridcolor": "white",
             "startlinecolor": "#2a3f5f"
            },
            "baxis": {
             "endlinecolor": "#2a3f5f",
             "gridcolor": "white",
             "linecolor": "white",
             "minorgridcolor": "white",
             "startlinecolor": "#2a3f5f"
            },
            "type": "carpet"
           }
          ],
          "choropleth": [
           {
            "colorbar": {
             "outlinewidth": 0,
             "ticks": ""
            },
            "type": "choropleth"
           }
          ],
          "contour": [
           {
            "colorbar": {
             "outlinewidth": 0,
             "ticks": ""
            },
            "colorscale": [
             [
              0,
              "#0d0887"
             ],
             [
              0.1111111111111111,
              "#46039f"
             ],
             [
              0.2222222222222222,
              "#7201a8"
             ],
             [
              0.3333333333333333,
              "#9c179e"
             ],
             [
              0.4444444444444444,
              "#bd3786"
             ],
             [
              0.5555555555555556,
              "#d8576b"
             ],
             [
              0.6666666666666666,
              "#ed7953"
             ],
             [
              0.7777777777777778,
              "#fb9f3a"
             ],
             [
              0.8888888888888888,
              "#fdca26"
             ],
             [
              1,
              "#f0f921"
             ]
            ],
            "type": "contour"
           }
          ],
          "contourcarpet": [
           {
            "colorbar": {
             "outlinewidth": 0,
             "ticks": ""
            },
            "type": "contourcarpet"
           }
          ],
          "heatmap": [
           {
            "colorbar": {
             "outlinewidth": 0,
             "ticks": ""
            },
            "colorscale": [
             [
              0,
              "#0d0887"
             ],
             [
              0.1111111111111111,
              "#46039f"
             ],
             [
              0.2222222222222222,
              "#7201a8"
             ],
             [
              0.3333333333333333,
              "#9c179e"
             ],
             [
              0.4444444444444444,
              "#bd3786"
             ],
             [
              0.5555555555555556,
              "#d8576b"
             ],
             [
              0.6666666666666666,
              "#ed7953"
             ],
             [
              0.7777777777777778,
              "#fb9f3a"
             ],
             [
              0.8888888888888888,
              "#fdca26"
             ],
             [
              1,
              "#f0f921"
             ]
            ],
            "type": "heatmap"
           }
          ],
          "heatmapgl": [
           {
            "colorbar": {
             "outlinewidth": 0,
             "ticks": ""
            },
            "colorscale": [
             [
              0,
              "#0d0887"
             ],
             [
              0.1111111111111111,
              "#46039f"
             ],
             [
              0.2222222222222222,
              "#7201a8"
             ],
             [
              0.3333333333333333,
              "#9c179e"
             ],
             [
              0.4444444444444444,
              "#bd3786"
             ],
             [
              0.5555555555555556,
              "#d8576b"
             ],
             [
              0.6666666666666666,
              "#ed7953"
             ],
             [
              0.7777777777777778,
              "#fb9f3a"
             ],
             [
              0.8888888888888888,
              "#fdca26"
             ],
             [
              1,
              "#f0f921"
             ]
            ],
            "type": "heatmapgl"
           }
          ],
          "histogram": [
           {
            "marker": {
             "pattern": {
              "fillmode": "overlay",
              "size": 10,
              "solidity": 0.2
             }
            },
            "type": "histogram"
           }
          ],
          "histogram2d": [
           {
            "colorbar": {
             "outlinewidth": 0,
             "ticks": ""
            },
            "colorscale": [
             [
              0,
              "#0d0887"
             ],
             [
              0.1111111111111111,
              "#46039f"
             ],
             [
              0.2222222222222222,
              "#7201a8"
             ],
             [
              0.3333333333333333,
              "#9c179e"
             ],
             [
              0.4444444444444444,
              "#bd3786"
             ],
             [
              0.5555555555555556,
              "#d8576b"
             ],
             [
              0.6666666666666666,
              "#ed7953"
             ],
             [
              0.7777777777777778,
              "#fb9f3a"
             ],
             [
              0.8888888888888888,
              "#fdca26"
             ],
             [
              1,
              "#f0f921"
             ]
            ],
            "type": "histogram2d"
           }
          ],
          "histogram2dcontour": [
           {
            "colorbar": {
             "outlinewidth": 0,
             "ticks": ""
            },
            "colorscale": [
             [
              0,
              "#0d0887"
             ],
             [
              0.1111111111111111,
              "#46039f"
             ],
             [
              0.2222222222222222,
              "#7201a8"
             ],
             [
              0.3333333333333333,
              "#9c179e"
             ],
             [
              0.4444444444444444,
              "#bd3786"
             ],
             [
              0.5555555555555556,
              "#d8576b"
             ],
             [
              0.6666666666666666,
              "#ed7953"
             ],
             [
              0.7777777777777778,
              "#fb9f3a"
             ],
             [
              0.8888888888888888,
              "#fdca26"
             ],
             [
              1,
              "#f0f921"
             ]
            ],
            "type": "histogram2dcontour"
           }
          ],
          "mesh3d": [
           {
            "colorbar": {
             "outlinewidth": 0,
             "ticks": ""
            },
            "type": "mesh3d"
           }
          ],
          "parcoords": [
           {
            "line": {
             "colorbar": {
              "outlinewidth": 0,
              "ticks": ""
             }
            },
            "type": "parcoords"
           }
          ],
          "pie": [
           {
            "automargin": true,
            "type": "pie"
           }
          ],
          "scatter": [
           {
            "marker": {
             "colorbar": {
              "outlinewidth": 0,
              "ticks": ""
             }
            },
            "type": "scatter"
           }
          ],
          "scatter3d": [
           {
            "line": {
             "colorbar": {
              "outlinewidth": 0,
              "ticks": ""
             }
            },
            "marker": {
             "colorbar": {
              "outlinewidth": 0,
              "ticks": ""
             }
            },
            "type": "scatter3d"
           }
          ],
          "scattercarpet": [
           {
            "marker": {
             "colorbar": {
              "outlinewidth": 0,
              "ticks": ""
             }
            },
            "type": "scattercarpet"
           }
          ],
          "scattergeo": [
           {
            "marker": {
             "colorbar": {
              "outlinewidth": 0,
              "ticks": ""
             }
            },
            "type": "scattergeo"
           }
          ],
          "scattergl": [
           {
            "marker": {
             "colorbar": {
              "outlinewidth": 0,
              "ticks": ""
             }
            },
            "type": "scattergl"
           }
          ],
          "scattermapbox": [
           {
            "marker": {
             "colorbar": {
              "outlinewidth": 0,
              "ticks": ""
             }
            },
            "type": "scattermapbox"
           }
          ],
          "scatterpolar": [
           {
            "marker": {
             "colorbar": {
              "outlinewidth": 0,
              "ticks": ""
             }
            },
            "type": "scatterpolar"
           }
          ],
          "scatterpolargl": [
           {
            "marker": {
             "colorbar": {
              "outlinewidth": 0,
              "ticks": ""
             }
            },
            "type": "scatterpolargl"
           }
          ],
          "scatterternary": [
           {
            "marker": {
             "colorbar": {
              "outlinewidth": 0,
              "ticks": ""
             }
            },
            "type": "scatterternary"
           }
          ],
          "surface": [
           {
            "colorbar": {
             "outlinewidth": 0,
             "ticks": ""
            },
            "colorscale": [
             [
              0,
              "#0d0887"
             ],
             [
              0.1111111111111111,
              "#46039f"
             ],
             [
              0.2222222222222222,
              "#7201a8"
             ],
             [
              0.3333333333333333,
              "#9c179e"
             ],
             [
              0.4444444444444444,
              "#bd3786"
             ],
             [
              0.5555555555555556,
              "#d8576b"
             ],
             [
              0.6666666666666666,
              "#ed7953"
             ],
             [
              0.7777777777777778,
              "#fb9f3a"
             ],
             [
              0.8888888888888888,
              "#fdca26"
             ],
             [
              1,
              "#f0f921"
             ]
            ],
            "type": "surface"
           }
          ],
          "table": [
           {
            "cells": {
             "fill": {
              "color": "#EBF0F8"
             },
             "line": {
              "color": "white"
             }
            },
            "header": {
             "fill": {
              "color": "#C8D4E3"
             },
             "line": {
              "color": "white"
             }
            },
            "type": "table"
           }
          ]
         },
         "layout": {
          "annotationdefaults": {
           "arrowcolor": "#2a3f5f",
           "arrowhead": 0,
           "arrowwidth": 1
          },
          "autotypenumbers": "strict",
          "coloraxis": {
           "colorbar": {
            "outlinewidth": 0,
            "ticks": ""
           }
          },
          "colorscale": {
           "diverging": [
            [
             0,
             "#8e0152"
            ],
            [
             0.1,
             "#c51b7d"
            ],
            [
             0.2,
             "#de77ae"
            ],
            [
             0.3,
             "#f1b6da"
            ],
            [
             0.4,
             "#fde0ef"
            ],
            [
             0.5,
             "#f7f7f7"
            ],
            [
             0.6,
             "#e6f5d0"
            ],
            [
             0.7,
             "#b8e186"
            ],
            [
             0.8,
             "#7fbc41"
            ],
            [
             0.9,
             "#4d9221"
            ],
            [
             1,
             "#276419"
            ]
           ],
           "sequential": [
            [
             0,
             "#0d0887"
            ],
            [
             0.1111111111111111,
             "#46039f"
            ],
            [
             0.2222222222222222,
             "#7201a8"
            ],
            [
             0.3333333333333333,
             "#9c179e"
            ],
            [
             0.4444444444444444,
             "#bd3786"
            ],
            [
             0.5555555555555556,
             "#d8576b"
            ],
            [
             0.6666666666666666,
             "#ed7953"
            ],
            [
             0.7777777777777778,
             "#fb9f3a"
            ],
            [
             0.8888888888888888,
             "#fdca26"
            ],
            [
             1,
             "#f0f921"
            ]
           ],
           "sequentialminus": [
            [
             0,
             "#0d0887"
            ],
            [
             0.1111111111111111,
             "#46039f"
            ],
            [
             0.2222222222222222,
             "#7201a8"
            ],
            [
             0.3333333333333333,
             "#9c179e"
            ],
            [
             0.4444444444444444,
             "#bd3786"
            ],
            [
             0.5555555555555556,
             "#d8576b"
            ],
            [
             0.6666666666666666,
             "#ed7953"
            ],
            [
             0.7777777777777778,
             "#fb9f3a"
            ],
            [
             0.8888888888888888,
             "#fdca26"
            ],
            [
             1,
             "#f0f921"
            ]
           ]
          },
          "colorway": [
           "#636efa",
           "#EF553B",
           "#00cc96",
           "#ab63fa",
           "#FFA15A",
           "#19d3f3",
           "#FF6692",
           "#B6E880",
           "#FF97FF",
           "#FECB52"
          ],
          "font": {
           "color": "#2a3f5f"
          },
          "geo": {
           "bgcolor": "white",
           "lakecolor": "white",
           "landcolor": "#E5ECF6",
           "showlakes": true,
           "showland": true,
           "subunitcolor": "white"
          },
          "hoverlabel": {
           "align": "left"
          },
          "hovermode": "closest",
          "mapbox": {
           "style": "light"
          },
          "paper_bgcolor": "white",
          "plot_bgcolor": "#E5ECF6",
          "polar": {
           "angularaxis": {
            "gridcolor": "white",
            "linecolor": "white",
            "ticks": ""
           },
           "bgcolor": "#E5ECF6",
           "radialaxis": {
            "gridcolor": "white",
            "linecolor": "white",
            "ticks": ""
           }
          },
          "scene": {
           "xaxis": {
            "backgroundcolor": "#E5ECF6",
            "gridcolor": "white",
            "gridwidth": 2,
            "linecolor": "white",
            "showbackground": true,
            "ticks": "",
            "zerolinecolor": "white"
           },
           "yaxis": {
            "backgroundcolor": "#E5ECF6",
            "gridcolor": "white",
            "gridwidth": 2,
            "linecolor": "white",
            "showbackground": true,
            "ticks": "",
            "zerolinecolor": "white"
           },
           "zaxis": {
            "backgroundcolor": "#E5ECF6",
            "gridcolor": "white",
            "gridwidth": 2,
            "linecolor": "white",
            "showbackground": true,
            "ticks": "",
            "zerolinecolor": "white"
           }
          },
          "shapedefaults": {
           "line": {
            "color": "#2a3f5f"
           }
          },
          "ternary": {
           "aaxis": {
            "gridcolor": "white",
            "linecolor": "white",
            "ticks": ""
           },
           "baxis": {
            "gridcolor": "white",
            "linecolor": "white",
            "ticks": ""
           },
           "bgcolor": "#E5ECF6",
           "caxis": {
            "gridcolor": "white",
            "linecolor": "white",
            "ticks": ""
           }
          },
          "title": {
           "x": 0.05
          },
          "xaxis": {
           "automargin": true,
           "gridcolor": "white",
           "linecolor": "white",
           "ticks": "",
           "title": {
            "standoff": 15
           },
           "zerolinecolor": "white",
           "zerolinewidth": 2
          },
          "yaxis": {
           "automargin": true,
           "gridcolor": "white",
           "linecolor": "white",
           "ticks": "",
           "title": {
            "standoff": 15
           },
           "zerolinecolor": "white",
           "zerolinewidth": 2
          }
         }
        },
        "xaxis": {
         "anchor": "y",
         "domain": [
          0,
          1
         ],
         "title": {
          "text": "SDD (Wasserstein distance)"
         }
        },
        "yaxis": {
         "anchor": "x",
         "domain": [
          0,
          1
         ],
         "title": {
          "text": "Accuracy (RMSE)"
         }
        }
       }
      }
     },
     "metadata": {},
     "output_type": "display_data"
    }
   ],
   "source": [
    "fig = px.scatter(x=sdd_performance_df['Wasserstein_dist'], y=sdd_performance_df['RMSE'], labels=dict(x=\"SDD (Wasserstein distance)\", y=\"Accuracy (RMSE)\"))\n",
    "fig.update_traces(marker = dict(size=10, color='red'))\n",
    "fig.show()"
   ]
  },
  {
   "cell_type": "code",
   "execution_count": 31,
   "metadata": {},
   "outputs": [
    {
     "data": {
      "application/vnd.plotly.v1+json": {
       "config": {
        "plotlyServerURL": "https://plot.ly"
       },
       "data": [
        {
         "marker": {
          "color": "red",
          "size": 10,
          "symbol": "square"
         },
         "mode": "markers",
         "name": "Data",
         "type": "scatter",
         "x": [
          298.58772916570587,
          459.474069726622,
          392.1104183442562,
          563.1653400879277,
          1182.5996366141433,
          996.976089250869,
          1042.10319932341,
          1155.8675671508292
         ],
         "y": [
          29.628983241907218,
          26.856678665926726,
          47.13310192290552,
          63.62797758258548,
          216.60849078752662,
          132.01694818990097,
          151.74260561679768,
          200.17231834409571
         ]
        },
        {
         "marker": {
          "color": "Blue"
         },
         "mode": "lines",
         "name": "Fitted Curve",
         "type": "scatter",
         "x": [
          298.58772916570587,
          307.51714237225576,
          316.4465555788056,
          325.3759687853555,
          334.30538199190534,
          343.23479519845523,
          352.16420840500507,
          361.09362161155497,
          370.02303481810486,
          378.9524480246547,
          387.8818612312046,
          396.8112744377545,
          405.74068764430433,
          414.6701008508542,
          423.59951405740406,
          432.52892726395396,
          441.4583404705038,
          450.3877536770537,
          459.3171668836036,
          468.24658009015343,
          477.1759932967033,
          486.1054065032532,
          495.03481970980306,
          503.9642329163529,
          512.8936461229027,
          521.8230593294527,
          530.7524725360025,
          539.6818857425524,
          548.6112989491023,
          557.5407121556522,
          566.470125362202,
          575.399538568752,
          584.3289517753018,
          593.2583649818516,
          602.1877781884016,
          611.1171913949514,
          620.0466046015013,
          628.9760178080512,
          637.905431014601,
          646.8348442211509,
          655.7642574277008,
          664.6936706342506,
          673.6230838408005,
          682.5524970473505,
          691.4819102539002,
          700.4113234604501,
          709.340736667,
          718.2701498735498,
          727.1995630800998,
          736.1289762866496,
          745.0583894931995,
          753.9878026997494,
          762.9172159062992,
          771.8466291128491,
          780.776042319399,
          789.7054555259489,
          798.6348687324987,
          807.5642819390487,
          816.4936951455984,
          825.4231083521483,
          834.3525215586983,
          843.281934765248,
          852.211347971798,
          861.1407611783479,
          870.0701743848977,
          878.9995875914476,
          887.9290007979976,
          896.8584140045473,
          905.7878272110972,
          914.717240417647,
          923.6466536241969,
          932.5760668307469,
          941.5054800372966,
          950.4348932438465,
          959.3643064503965,
          968.2937196569462,
          977.2231328634962,
          986.1525460700461,
          995.0819592765959,
          1004.0113724831458,
          1012.9407856896958,
          1021.8701988962455,
          1030.7996121027954,
          1039.7290253093454,
          1048.658438515895,
          1057.587851722445,
          1066.517264928995,
          1075.4466781355447,
          1084.3760913420947,
          1093.3055045486444,
          1102.2349177551944,
          1111.1643309617443,
          1120.093744168294,
          1129.023157374844,
          1137.952570581394,
          1146.8819837879437,
          1155.8113969944936,
          1164.7408102010436,
          1173.6702234075933,
          1182.5996366141433
         ],
         "y": [
          36.23137143392017,
          36.0956254819794,
          35.99835633551743,
          35.93956399453428,
          35.919248459029944,
          35.93740972900442,
          35.99404780445771,
          36.08916268538981,
          36.22275437180073,
          36.39482286369045,
          36.60536816105899,
          36.85439026390635,
          37.14188917223251,
          37.46786488603749,
          37.83231740532128,
          38.23524673008388,
          38.67665286032529,
          39.156535796045524,
          39.674895537244566,
          40.23173208392242,
          40.82704543607909,
          41.46083559371456,
          42.133102556828845,
          42.84384632542195,
          43.59306689949386,
          44.38076427904459,
          45.20693846407413,
          46.07158945458248,
          46.974717250569654,
          47.91632185203564,
          48.89640325898042,
          49.91496147140404,
          50.97199648930645,
          52.06750831268768,
          53.20149694154773,
          54.373962375886585,
          55.58490461570425,
          56.83432366100074,
          58.122219511776024,
          59.44859216803013,
          60.81344162976306,
          62.216767896974766,
          63.65857096966533,
          65.13885084783468,
          66.65760753148282,
          68.21484102060981,
          69.8105513152156,
          71.44473841530021,
          73.11740232086365,
          74.82854303190587,
          76.57816054842691,
          78.36625487042679,
          80.19282599790544,
          82.05787393086293,
          83.96139866929923,
          85.90340021321433,
          87.88387856260825,
          89.902833717481,
          91.96026567783251,
          94.05617444366288,
          96.19056001497205,
          98.36342239176,
          100.57476157402682,
          102.82457756177246,
          105.11287035499683,
          107.4396399537001,
          109.80488635788217,
          112.20860956754298,
          114.65080958268268,
          117.13148640330112,
          119.65064002939843,
          122.20827046097457,
          124.80437769802946,
          127.4389617405632,
          130.1120225885758,
          132.8235602420671,
          135.5735747010373,
          138.36206596548632,
          141.18903403541404,
          144.05447891082068,
          146.95840059170612,
          149.90079907807032,
          152.88167436991338,
          155.9010264672353,
          158.95885537003593,
          162.05516107831545,
          165.18994359207377,
          168.36320291131076,
          171.57493903602673,
          174.8251519662214,
          178.11384170189498,
          181.44100824304738,
          184.8066515896785,
          188.21077174178853,
          191.65336869937735,
          195.1344424624449,
          198.65399303099136,
          202.21202040501663,
          205.80852458452063,
          209.44350556950351
         ]
        }
       ],
       "layout": {
        "font": {
         "color": "Black",
         "family": "Arial",
         "size": 16
        },
        "template": {
         "data": {
          "bar": [
           {
            "error_x": {
             "color": "#2a3f5f"
            },
            "error_y": {
             "color": "#2a3f5f"
            },
            "marker": {
             "line": {
              "color": "#E5ECF6",
              "width": 0.5
             },
             "pattern": {
              "fillmode": "overlay",
              "size": 10,
              "solidity": 0.2
             }
            },
            "type": "bar"
           }
          ],
          "barpolar": [
           {
            "marker": {
             "line": {
              "color": "#E5ECF6",
              "width": 0.5
             },
             "pattern": {
              "fillmode": "overlay",
              "size": 10,
              "solidity": 0.2
             }
            },
            "type": "barpolar"
           }
          ],
          "carpet": [
           {
            "aaxis": {
             "endlinecolor": "#2a3f5f",
             "gridcolor": "white",
             "linecolor": "white",
             "minorgridcolor": "white",
             "startlinecolor": "#2a3f5f"
            },
            "baxis": {
             "endlinecolor": "#2a3f5f",
             "gridcolor": "white",
             "linecolor": "white",
             "minorgridcolor": "white",
             "startlinecolor": "#2a3f5f"
            },
            "type": "carpet"
           }
          ],
          "choropleth": [
           {
            "colorbar": {
             "outlinewidth": 0,
             "ticks": ""
            },
            "type": "choropleth"
           }
          ],
          "contour": [
           {
            "colorbar": {
             "outlinewidth": 0,
             "ticks": ""
            },
            "colorscale": [
             [
              0,
              "#0d0887"
             ],
             [
              0.1111111111111111,
              "#46039f"
             ],
             [
              0.2222222222222222,
              "#7201a8"
             ],
             [
              0.3333333333333333,
              "#9c179e"
             ],
             [
              0.4444444444444444,
              "#bd3786"
             ],
             [
              0.5555555555555556,
              "#d8576b"
             ],
             [
              0.6666666666666666,
              "#ed7953"
             ],
             [
              0.7777777777777778,
              "#fb9f3a"
             ],
             [
              0.8888888888888888,
              "#fdca26"
             ],
             [
              1,
              "#f0f921"
             ]
            ],
            "type": "contour"
           }
          ],
          "contourcarpet": [
           {
            "colorbar": {
             "outlinewidth": 0,
             "ticks": ""
            },
            "type": "contourcarpet"
           }
          ],
          "heatmap": [
           {
            "colorbar": {
             "outlinewidth": 0,
             "ticks": ""
            },
            "colorscale": [
             [
              0,
              "#0d0887"
             ],
             [
              0.1111111111111111,
              "#46039f"
             ],
             [
              0.2222222222222222,
              "#7201a8"
             ],
             [
              0.3333333333333333,
              "#9c179e"
             ],
             [
              0.4444444444444444,
              "#bd3786"
             ],
             [
              0.5555555555555556,
              "#d8576b"
             ],
             [
              0.6666666666666666,
              "#ed7953"
             ],
             [
              0.7777777777777778,
              "#fb9f3a"
             ],
             [
              0.8888888888888888,
              "#fdca26"
             ],
             [
              1,
              "#f0f921"
             ]
            ],
            "type": "heatmap"
           }
          ],
          "heatmapgl": [
           {
            "colorbar": {
             "outlinewidth": 0,
             "ticks": ""
            },
            "colorscale": [
             [
              0,
              "#0d0887"
             ],
             [
              0.1111111111111111,
              "#46039f"
             ],
             [
              0.2222222222222222,
              "#7201a8"
             ],
             [
              0.3333333333333333,
              "#9c179e"
             ],
             [
              0.4444444444444444,
              "#bd3786"
             ],
             [
              0.5555555555555556,
              "#d8576b"
             ],
             [
              0.6666666666666666,
              "#ed7953"
             ],
             [
              0.7777777777777778,
              "#fb9f3a"
             ],
             [
              0.8888888888888888,
              "#fdca26"
             ],
             [
              1,
              "#f0f921"
             ]
            ],
            "type": "heatmapgl"
           }
          ],
          "histogram": [
           {
            "marker": {
             "pattern": {
              "fillmode": "overlay",
              "size": 10,
              "solidity": 0.2
             }
            },
            "type": "histogram"
           }
          ],
          "histogram2d": [
           {
            "colorbar": {
             "outlinewidth": 0,
             "ticks": ""
            },
            "colorscale": [
             [
              0,
              "#0d0887"
             ],
             [
              0.1111111111111111,
              "#46039f"
             ],
             [
              0.2222222222222222,
              "#7201a8"
             ],
             [
              0.3333333333333333,
              "#9c179e"
             ],
             [
              0.4444444444444444,
              "#bd3786"
             ],
             [
              0.5555555555555556,
              "#d8576b"
             ],
             [
              0.6666666666666666,
              "#ed7953"
             ],
             [
              0.7777777777777778,
              "#fb9f3a"
             ],
             [
              0.8888888888888888,
              "#fdca26"
             ],
             [
              1,
              "#f0f921"
             ]
            ],
            "type": "histogram2d"
           }
          ],
          "histogram2dcontour": [
           {
            "colorbar": {
             "outlinewidth": 0,
             "ticks": ""
            },
            "colorscale": [
             [
              0,
              "#0d0887"
             ],
             [
              0.1111111111111111,
              "#46039f"
             ],
             [
              0.2222222222222222,
              "#7201a8"
             ],
             [
              0.3333333333333333,
              "#9c179e"
             ],
             [
              0.4444444444444444,
              "#bd3786"
             ],
             [
              0.5555555555555556,
              "#d8576b"
             ],
             [
              0.6666666666666666,
              "#ed7953"
             ],
             [
              0.7777777777777778,
              "#fb9f3a"
             ],
             [
              0.8888888888888888,
              "#fdca26"
             ],
             [
              1,
              "#f0f921"
             ]
            ],
            "type": "histogram2dcontour"
           }
          ],
          "mesh3d": [
           {
            "colorbar": {
             "outlinewidth": 0,
             "ticks": ""
            },
            "type": "mesh3d"
           }
          ],
          "parcoords": [
           {
            "line": {
             "colorbar": {
              "outlinewidth": 0,
              "ticks": ""
             }
            },
            "type": "parcoords"
           }
          ],
          "pie": [
           {
            "automargin": true,
            "type": "pie"
           }
          ],
          "scatter": [
           {
            "marker": {
             "colorbar": {
              "outlinewidth": 0,
              "ticks": ""
             }
            },
            "type": "scatter"
           }
          ],
          "scatter3d": [
           {
            "line": {
             "colorbar": {
              "outlinewidth": 0,
              "ticks": ""
             }
            },
            "marker": {
             "colorbar": {
              "outlinewidth": 0,
              "ticks": ""
             }
            },
            "type": "scatter3d"
           }
          ],
          "scattercarpet": [
           {
            "marker": {
             "colorbar": {
              "outlinewidth": 0,
              "ticks": ""
             }
            },
            "type": "scattercarpet"
           }
          ],
          "scattergeo": [
           {
            "marker": {
             "colorbar": {
              "outlinewidth": 0,
              "ticks": ""
             }
            },
            "type": "scattergeo"
           }
          ],
          "scattergl": [
           {
            "marker": {
             "colorbar": {
              "outlinewidth": 0,
              "ticks": ""
             }
            },
            "type": "scattergl"
           }
          ],
          "scattermapbox": [
           {
            "marker": {
             "colorbar": {
              "outlinewidth": 0,
              "ticks": ""
             }
            },
            "type": "scattermapbox"
           }
          ],
          "scatterpolar": [
           {
            "marker": {
             "colorbar": {
              "outlinewidth": 0,
              "ticks": ""
             }
            },
            "type": "scatterpolar"
           }
          ],
          "scatterpolargl": [
           {
            "marker": {
             "colorbar": {
              "outlinewidth": 0,
              "ticks": ""
             }
            },
            "type": "scatterpolargl"
           }
          ],
          "scatterternary": [
           {
            "marker": {
             "colorbar": {
              "outlinewidth": 0,
              "ticks": ""
             }
            },
            "type": "scatterternary"
           }
          ],
          "surface": [
           {
            "colorbar": {
             "outlinewidth": 0,
             "ticks": ""
            },
            "colorscale": [
             [
              0,
              "#0d0887"
             ],
             [
              0.1111111111111111,
              "#46039f"
             ],
             [
              0.2222222222222222,
              "#7201a8"
             ],
             [
              0.3333333333333333,
              "#9c179e"
             ],
             [
              0.4444444444444444,
              "#bd3786"
             ],
             [
              0.5555555555555556,
              "#d8576b"
             ],
             [
              0.6666666666666666,
              "#ed7953"
             ],
             [
              0.7777777777777778,
              "#fb9f3a"
             ],
             [
              0.8888888888888888,
              "#fdca26"
             ],
             [
              1,
              "#f0f921"
             ]
            ],
            "type": "surface"
           }
          ],
          "table": [
           {
            "cells": {
             "fill": {
              "color": "#EBF0F8"
             },
             "line": {
              "color": "white"
             }
            },
            "header": {
             "fill": {
              "color": "#C8D4E3"
             },
             "line": {
              "color": "white"
             }
            },
            "type": "table"
           }
          ]
         },
         "layout": {
          "annotationdefaults": {
           "arrowcolor": "#2a3f5f",
           "arrowhead": 0,
           "arrowwidth": 1
          },
          "autotypenumbers": "strict",
          "coloraxis": {
           "colorbar": {
            "outlinewidth": 0,
            "ticks": ""
           }
          },
          "colorscale": {
           "diverging": [
            [
             0,
             "#8e0152"
            ],
            [
             0.1,
             "#c51b7d"
            ],
            [
             0.2,
             "#de77ae"
            ],
            [
             0.3,
             "#f1b6da"
            ],
            [
             0.4,
             "#fde0ef"
            ],
            [
             0.5,
             "#f7f7f7"
            ],
            [
             0.6,
             "#e6f5d0"
            ],
            [
             0.7,
             "#b8e186"
            ],
            [
             0.8,
             "#7fbc41"
            ],
            [
             0.9,
             "#4d9221"
            ],
            [
             1,
             "#276419"
            ]
           ],
           "sequential": [
            [
             0,
             "#0d0887"
            ],
            [
             0.1111111111111111,
             "#46039f"
            ],
            [
             0.2222222222222222,
             "#7201a8"
            ],
            [
             0.3333333333333333,
             "#9c179e"
            ],
            [
             0.4444444444444444,
             "#bd3786"
            ],
            [
             0.5555555555555556,
             "#d8576b"
            ],
            [
             0.6666666666666666,
             "#ed7953"
            ],
            [
             0.7777777777777778,
             "#fb9f3a"
            ],
            [
             0.8888888888888888,
             "#fdca26"
            ],
            [
             1,
             "#f0f921"
            ]
           ],
           "sequentialminus": [
            [
             0,
             "#0d0887"
            ],
            [
             0.1111111111111111,
             "#46039f"
            ],
            [
             0.2222222222222222,
             "#7201a8"
            ],
            [
             0.3333333333333333,
             "#9c179e"
            ],
            [
             0.4444444444444444,
             "#bd3786"
            ],
            [
             0.5555555555555556,
             "#d8576b"
            ],
            [
             0.6666666666666666,
             "#ed7953"
            ],
            [
             0.7777777777777778,
             "#fb9f3a"
            ],
            [
             0.8888888888888888,
             "#fdca26"
            ],
            [
             1,
             "#f0f921"
            ]
           ]
          },
          "colorway": [
           "#636efa",
           "#EF553B",
           "#00cc96",
           "#ab63fa",
           "#FFA15A",
           "#19d3f3",
           "#FF6692",
           "#B6E880",
           "#FF97FF",
           "#FECB52"
          ],
          "font": {
           "color": "#2a3f5f"
          },
          "geo": {
           "bgcolor": "white",
           "lakecolor": "white",
           "landcolor": "#E5ECF6",
           "showlakes": true,
           "showland": true,
           "subunitcolor": "white"
          },
          "hoverlabel": {
           "align": "left"
          },
          "hovermode": "closest",
          "mapbox": {
           "style": "light"
          },
          "paper_bgcolor": "white",
          "plot_bgcolor": "#E5ECF6",
          "polar": {
           "angularaxis": {
            "gridcolor": "white",
            "linecolor": "white",
            "ticks": ""
           },
           "bgcolor": "#E5ECF6",
           "radialaxis": {
            "gridcolor": "white",
            "linecolor": "white",
            "ticks": ""
           }
          },
          "scene": {
           "xaxis": {
            "backgroundcolor": "#E5ECF6",
            "gridcolor": "white",
            "gridwidth": 2,
            "linecolor": "white",
            "showbackground": true,
            "ticks": "",
            "zerolinecolor": "white"
           },
           "yaxis": {
            "backgroundcolor": "#E5ECF6",
            "gridcolor": "white",
            "gridwidth": 2,
            "linecolor": "white",
            "showbackground": true,
            "ticks": "",
            "zerolinecolor": "white"
           },
           "zaxis": {
            "backgroundcolor": "#E5ECF6",
            "gridcolor": "white",
            "gridwidth": 2,
            "linecolor": "white",
            "showbackground": true,
            "ticks": "",
            "zerolinecolor": "white"
           }
          },
          "shapedefaults": {
           "line": {
            "color": "#2a3f5f"
           }
          },
          "ternary": {
           "aaxis": {
            "gridcolor": "white",
            "linecolor": "white",
            "ticks": ""
           },
           "baxis": {
            "gridcolor": "white",
            "linecolor": "white",
            "ticks": ""
           },
           "bgcolor": "#E5ECF6",
           "caxis": {
            "gridcolor": "white",
            "linecolor": "white",
            "ticks": ""
           }
          },
          "title": {
           "x": 0.05
          },
          "xaxis": {
           "automargin": true,
           "gridcolor": "white",
           "linecolor": "white",
           "ticks": "",
           "title": {
            "standoff": 15
           },
           "zerolinecolor": "white",
           "zerolinewidth": 2
          },
          "yaxis": {
           "automargin": true,
           "gridcolor": "white",
           "linecolor": "white",
           "ticks": "",
           "title": {
            "standoff": 15
           },
           "zerolinecolor": "white",
           "zerolinewidth": 2
          }
         }
        },
        "title": {
         "text": "An illustration of fitting a curve to statistical mapping of dissimilarity and performance"
        },
        "xaxis": {
         "title": {
          "text": "SDD (Wasserstein distance)"
         }
        },
        "yaxis": {
         "title": {
          "text": "Performance (RMSE)"
         }
        }
       }
      }
     },
     "metadata": {},
     "output_type": "display_data"
    }
   ],
   "source": [
    "fit_polynomial_curve_to_data_and_visualize(sdd_performance_df['Wasserstein_dist'].values,  sdd_performance_df['RMSE'].values)"
   ]
  },
  {
   "cell_type": "code",
   "execution_count": 32,
   "metadata": {},
   "outputs": [
    {
     "data": {
      "application/vnd.plotly.v1+json": {
       "config": {
        "plotlyServerURL": "https://plot.ly"
       },
       "data": [
        {
         "marker": {
          "color": "red",
          "size": 10,
          "symbol": "square"
         },
         "mode": "markers",
         "name": "Data",
         "type": "scatter",
         "x": [
          298.58772916570587,
          459.474069726622,
          392.1104183442562,
          563.1653400879277,
          1182.5996366141433,
          996.976089250869,
          1042.10319932341,
          1155.8675671508292
         ],
         "y": [
          1.7497867345809937,
          1.5183847397565842,
          2.7554238215088844,
          3.2462280243635178,
          9.647360444068909,
          6.219833344221115,
          7.126104831695557,
          9.120893478393555
         ]
        },
        {
         "marker": {
          "color": "Blue"
         },
         "mode": "lines",
         "name": "Fitted Curve",
         "type": "scatter",
         "x": [
          298.58772916570587,
          307.51714237225576,
          316.4465555788056,
          325.3759687853555,
          334.30538199190534,
          343.23479519845523,
          352.16420840500507,
          361.09362161155497,
          370.02303481810486,
          378.9524480246547,
          387.8818612312046,
          396.8112744377545,
          405.74068764430433,
          414.6701008508542,
          423.59951405740406,
          432.52892726395396,
          441.4583404705038,
          450.3877536770537,
          459.3171668836036,
          468.24658009015343,
          477.1759932967033,
          486.1054065032532,
          495.03481970980306,
          503.9642329163529,
          512.8936461229027,
          521.8230593294527,
          530.7524725360025,
          539.6818857425524,
          548.6112989491023,
          557.5407121556522,
          566.470125362202,
          575.399538568752,
          584.3289517753018,
          593.2583649818516,
          602.1877781884016,
          611.1171913949514,
          620.0466046015013,
          628.9760178080512,
          637.905431014601,
          646.8348442211509,
          655.7642574277008,
          664.6936706342506,
          673.6230838408005,
          682.5524970473505,
          691.4819102539002,
          700.4113234604501,
          709.340736667,
          718.2701498735498,
          727.1995630800998,
          736.1289762866496,
          745.0583894931995,
          753.9878026997494,
          762.9172159062992,
          771.8466291128491,
          780.776042319399,
          789.7054555259489,
          798.6348687324987,
          807.5642819390487,
          816.4936951455984,
          825.4231083521483,
          834.3525215586983,
          843.281934765248,
          852.211347971798,
          861.1407611783479,
          870.0701743848977,
          878.9995875914476,
          887.9290007979976,
          896.8584140045473,
          905.7878272110972,
          914.717240417647,
          923.6466536241969,
          932.5760668307469,
          941.5054800372966,
          950.4348932438465,
          959.3643064503965,
          968.2937196569462,
          977.2231328634962,
          986.1525460700461,
          995.0819592765959,
          1004.0113724831458,
          1012.9407856896958,
          1021.8701988962455,
          1030.7996121027954,
          1039.7290253093454,
          1048.658438515895,
          1057.587851722445,
          1066.517264928995,
          1075.4466781355447,
          1084.3760913420947,
          1093.3055045486444,
          1102.2349177551944,
          1111.1643309617443,
          1120.093744168294,
          1129.023157374844,
          1137.952570581394,
          1146.8819837879437,
          1155.8113969944936,
          1164.7408102010436,
          1173.6702234075933,
          1182.5996366141433
         ],
         "y": [
          2.0552747783892356,
          2.052560933097464,
          2.0514285250360045,
          2.0518775542048573,
          2.0539080206040214,
          2.0575199242334983,
          2.062713265093287,
          2.0694880431833877,
          2.077844258503801,
          2.0877819110545257,
          2.0993010008355624,
          2.1124015278469113,
          2.1270834920885724,
          2.1433468935605458,
          2.1611917322628305,
          2.180618008195428,
          2.2016257213583366,
          2.224214871751558,
          2.2483854593750916,
          2.2741374842289366,
          2.3014709463130942,
          2.3303858456275637,
          2.360882182172345,
          2.3929599559474384,
          2.426619166952844,
          2.461859815188562,
          2.4986819006545913,
          2.537085423350933,
          2.577070383277587,
          2.6186367804345525,
          2.6617846148218307,
          2.7065138864394207,
          2.7528245952873225,
          2.800716741365536,
          2.8501903246740627,
          2.901245345212901,
          2.9538818029820506,
          3.0080996979815136,
          3.0638990302112874,
          3.121279799671373,
          3.1802420063617727,
          3.240785650282482,
          3.3029107314335047,
          3.3666172498148397,
          3.431905205426485,
          3.4987745982684446,
          3.5672254283407145,
          3.637257695643297,
          3.7088714001761924,
          3.782066541939399,
          3.856843120932918,
          3.9332011371567495,
          4.011140590610892,
          4.090661481295347,
          4.171763809210114,
          4.254447574355193,
          4.338712776730583,
          4.424559416336288,
          4.511987493172301,
          4.60099700723863,
          4.691587958535269,
          4.783760347062219,
          4.877514172819484,
          4.97284943580706,
          5.069766136024946,
          5.168264273473146,
          5.268343848151659,
          5.370004860060481,
          5.473247309199617,
          5.578071195569064,
          5.684476519168824,
          5.792463279998897,
          5.902031478059278,
          6.013181113349975,
          6.125912185870985,
          6.240224695622302,
          6.356118642603937,
          6.4735940268158805,
          6.592650848258135,
          6.713289106930704,
          6.835508802833585,
          6.959309935966777,
          7.084692506330281,
          7.211656513924099,
          7.340201958748226,
          7.470328840802667,
          7.60203716008742,
          7.735326916602483,
          7.870198110347861,
          8.006650741323547,
          8.144684809529549,
          8.284300314965863,
          8.425497257632486,
          8.568275637529425,
          8.712635454656674,
          8.858576709014232,
          9.006099400602107,
          9.155203529420293,
          9.305889095468789,
          9.458156098747597
         ]
        }
       ],
       "layout": {
        "font": {
         "color": "Black",
         "family": "Arial",
         "size": 16
        },
        "template": {
         "data": {
          "bar": [
           {
            "error_x": {
             "color": "#2a3f5f"
            },
            "error_y": {
             "color": "#2a3f5f"
            },
            "marker": {
             "line": {
              "color": "#E5ECF6",
              "width": 0.5
             },
             "pattern": {
              "fillmode": "overlay",
              "size": 10,
              "solidity": 0.2
             }
            },
            "type": "bar"
           }
          ],
          "barpolar": [
           {
            "marker": {
             "line": {
              "color": "#E5ECF6",
              "width": 0.5
             },
             "pattern": {
              "fillmode": "overlay",
              "size": 10,
              "solidity": 0.2
             }
            },
            "type": "barpolar"
           }
          ],
          "carpet": [
           {
            "aaxis": {
             "endlinecolor": "#2a3f5f",
             "gridcolor": "white",
             "linecolor": "white",
             "minorgridcolor": "white",
             "startlinecolor": "#2a3f5f"
            },
            "baxis": {
             "endlinecolor": "#2a3f5f",
             "gridcolor": "white",
             "linecolor": "white",
             "minorgridcolor": "white",
             "startlinecolor": "#2a3f5f"
            },
            "type": "carpet"
           }
          ],
          "choropleth": [
           {
            "colorbar": {
             "outlinewidth": 0,
             "ticks": ""
            },
            "type": "choropleth"
           }
          ],
          "contour": [
           {
            "colorbar": {
             "outlinewidth": 0,
             "ticks": ""
            },
            "colorscale": [
             [
              0,
              "#0d0887"
             ],
             [
              0.1111111111111111,
              "#46039f"
             ],
             [
              0.2222222222222222,
              "#7201a8"
             ],
             [
              0.3333333333333333,
              "#9c179e"
             ],
             [
              0.4444444444444444,
              "#bd3786"
             ],
             [
              0.5555555555555556,
              "#d8576b"
             ],
             [
              0.6666666666666666,
              "#ed7953"
             ],
             [
              0.7777777777777778,
              "#fb9f3a"
             ],
             [
              0.8888888888888888,
              "#fdca26"
             ],
             [
              1,
              "#f0f921"
             ]
            ],
            "type": "contour"
           }
          ],
          "contourcarpet": [
           {
            "colorbar": {
             "outlinewidth": 0,
             "ticks": ""
            },
            "type": "contourcarpet"
           }
          ],
          "heatmap": [
           {
            "colorbar": {
             "outlinewidth": 0,
             "ticks": ""
            },
            "colorscale": [
             [
              0,
              "#0d0887"
             ],
             [
              0.1111111111111111,
              "#46039f"
             ],
             [
              0.2222222222222222,
              "#7201a8"
             ],
             [
              0.3333333333333333,
              "#9c179e"
             ],
             [
              0.4444444444444444,
              "#bd3786"
             ],
             [
              0.5555555555555556,
              "#d8576b"
             ],
             [
              0.6666666666666666,
              "#ed7953"
             ],
             [
              0.7777777777777778,
              "#fb9f3a"
             ],
             [
              0.8888888888888888,
              "#fdca26"
             ],
             [
              1,
              "#f0f921"
             ]
            ],
            "type": "heatmap"
           }
          ],
          "heatmapgl": [
           {
            "colorbar": {
             "outlinewidth": 0,
             "ticks": ""
            },
            "colorscale": [
             [
              0,
              "#0d0887"
             ],
             [
              0.1111111111111111,
              "#46039f"
             ],
             [
              0.2222222222222222,
              "#7201a8"
             ],
             [
              0.3333333333333333,
              "#9c179e"
             ],
             [
              0.4444444444444444,
              "#bd3786"
             ],
             [
              0.5555555555555556,
              "#d8576b"
             ],
             [
              0.6666666666666666,
              "#ed7953"
             ],
             [
              0.7777777777777778,
              "#fb9f3a"
             ],
             [
              0.8888888888888888,
              "#fdca26"
             ],
             [
              1,
              "#f0f921"
             ]
            ],
            "type": "heatmapgl"
           }
          ],
          "histogram": [
           {
            "marker": {
             "pattern": {
              "fillmode": "overlay",
              "size": 10,
              "solidity": 0.2
             }
            },
            "type": "histogram"
           }
          ],
          "histogram2d": [
           {
            "colorbar": {
             "outlinewidth": 0,
             "ticks": ""
            },
            "colorscale": [
             [
              0,
              "#0d0887"
             ],
             [
              0.1111111111111111,
              "#46039f"
             ],
             [
              0.2222222222222222,
              "#7201a8"
             ],
             [
              0.3333333333333333,
              "#9c179e"
             ],
             [
              0.4444444444444444,
              "#bd3786"
             ],
             [
              0.5555555555555556,
              "#d8576b"
             ],
             [
              0.6666666666666666,
              "#ed7953"
             ],
             [
              0.7777777777777778,
              "#fb9f3a"
             ],
             [
              0.8888888888888888,
              "#fdca26"
             ],
             [
              1,
              "#f0f921"
             ]
            ],
            "type": "histogram2d"
           }
          ],
          "histogram2dcontour": [
           {
            "colorbar": {
             "outlinewidth": 0,
             "ticks": ""
            },
            "colorscale": [
             [
              0,
              "#0d0887"
             ],
             [
              0.1111111111111111,
              "#46039f"
             ],
             [
              0.2222222222222222,
              "#7201a8"
             ],
             [
              0.3333333333333333,
              "#9c179e"
             ],
             [
              0.4444444444444444,
              "#bd3786"
             ],
             [
              0.5555555555555556,
              "#d8576b"
             ],
             [
              0.6666666666666666,
              "#ed7953"
             ],
             [
              0.7777777777777778,
              "#fb9f3a"
             ],
             [
              0.8888888888888888,
              "#fdca26"
             ],
             [
              1,
              "#f0f921"
             ]
            ],
            "type": "histogram2dcontour"
           }
          ],
          "mesh3d": [
           {
            "colorbar": {
             "outlinewidth": 0,
             "ticks": ""
            },
            "type": "mesh3d"
           }
          ],
          "parcoords": [
           {
            "line": {
             "colorbar": {
              "outlinewidth": 0,
              "ticks": ""
             }
            },
            "type": "parcoords"
           }
          ],
          "pie": [
           {
            "automargin": true,
            "type": "pie"
           }
          ],
          "scatter": [
           {
            "marker": {
             "colorbar": {
              "outlinewidth": 0,
              "ticks": ""
             }
            },
            "type": "scatter"
           }
          ],
          "scatter3d": [
           {
            "line": {
             "colorbar": {
              "outlinewidth": 0,
              "ticks": ""
             }
            },
            "marker": {
             "colorbar": {
              "outlinewidth": 0,
              "ticks": ""
             }
            },
            "type": "scatter3d"
           }
          ],
          "scattercarpet": [
           {
            "marker": {
             "colorbar": {
              "outlinewidth": 0,
              "ticks": ""
             }
            },
            "type": "scattercarpet"
           }
          ],
          "scattergeo": [
           {
            "marker": {
             "colorbar": {
              "outlinewidth": 0,
              "ticks": ""
             }
            },
            "type": "scattergeo"
           }
          ],
          "scattergl": [
           {
            "marker": {
             "colorbar": {
              "outlinewidth": 0,
              "ticks": ""
             }
            },
            "type": "scattergl"
           }
          ],
          "scattermapbox": [
           {
            "marker": {
             "colorbar": {
              "outlinewidth": 0,
              "ticks": ""
             }
            },
            "type": "scattermapbox"
           }
          ],
          "scatterpolar": [
           {
            "marker": {
             "colorbar": {
              "outlinewidth": 0,
              "ticks": ""
             }
            },
            "type": "scatterpolar"
           }
          ],
          "scatterpolargl": [
           {
            "marker": {
             "colorbar": {
              "outlinewidth": 0,
              "ticks": ""
             }
            },
            "type": "scatterpolargl"
           }
          ],
          "scatterternary": [
           {
            "marker": {
             "colorbar": {
              "outlinewidth": 0,
              "ticks": ""
             }
            },
            "type": "scatterternary"
           }
          ],
          "surface": [
           {
            "colorbar": {
             "outlinewidth": 0,
             "ticks": ""
            },
            "colorscale": [
             [
              0,
              "#0d0887"
             ],
             [
              0.1111111111111111,
              "#46039f"
             ],
             [
              0.2222222222222222,
              "#7201a8"
             ],
             [
              0.3333333333333333,
              "#9c179e"
             ],
             [
              0.4444444444444444,
              "#bd3786"
             ],
             [
              0.5555555555555556,
              "#d8576b"
             ],
             [
              0.6666666666666666,
              "#ed7953"
             ],
             [
              0.7777777777777778,
              "#fb9f3a"
             ],
             [
              0.8888888888888888,
              "#fdca26"
             ],
             [
              1,
              "#f0f921"
             ]
            ],
            "type": "surface"
           }
          ],
          "table": [
           {
            "cells": {
             "fill": {
              "color": "#EBF0F8"
             },
             "line": {
              "color": "white"
             }
            },
            "header": {
             "fill": {
              "color": "#C8D4E3"
             },
             "line": {
              "color": "white"
             }
            },
            "type": "table"
           }
          ]
         },
         "layout": {
          "annotationdefaults": {
           "arrowcolor": "#2a3f5f",
           "arrowhead": 0,
           "arrowwidth": 1
          },
          "autotypenumbers": "strict",
          "coloraxis": {
           "colorbar": {
            "outlinewidth": 0,
            "ticks": ""
           }
          },
          "colorscale": {
           "diverging": [
            [
             0,
             "#8e0152"
            ],
            [
             0.1,
             "#c51b7d"
            ],
            [
             0.2,
             "#de77ae"
            ],
            [
             0.3,
             "#f1b6da"
            ],
            [
             0.4,
             "#fde0ef"
            ],
            [
             0.5,
             "#f7f7f7"
            ],
            [
             0.6,
             "#e6f5d0"
            ],
            [
             0.7,
             "#b8e186"
            ],
            [
             0.8,
             "#7fbc41"
            ],
            [
             0.9,
             "#4d9221"
            ],
            [
             1,
             "#276419"
            ]
           ],
           "sequential": [
            [
             0,
             "#0d0887"
            ],
            [
             0.1111111111111111,
             "#46039f"
            ],
            [
             0.2222222222222222,
             "#7201a8"
            ],
            [
             0.3333333333333333,
             "#9c179e"
            ],
            [
             0.4444444444444444,
             "#bd3786"
            ],
            [
             0.5555555555555556,
             "#d8576b"
            ],
            [
             0.6666666666666666,
             "#ed7953"
            ],
            [
             0.7777777777777778,
             "#fb9f3a"
            ],
            [
             0.8888888888888888,
             "#fdca26"
            ],
            [
             1,
             "#f0f921"
            ]
           ],
           "sequentialminus": [
            [
             0,
             "#0d0887"
            ],
            [
             0.1111111111111111,
             "#46039f"
            ],
            [
             0.2222222222222222,
             "#7201a8"
            ],
            [
             0.3333333333333333,
             "#9c179e"
            ],
            [
             0.4444444444444444,
             "#bd3786"
            ],
            [
             0.5555555555555556,
             "#d8576b"
            ],
            [
             0.6666666666666666,
             "#ed7953"
            ],
            [
             0.7777777777777778,
             "#fb9f3a"
            ],
            [
             0.8888888888888888,
             "#fdca26"
            ],
            [
             1,
             "#f0f921"
            ]
           ]
          },
          "colorway": [
           "#636efa",
           "#EF553B",
           "#00cc96",
           "#ab63fa",
           "#FFA15A",
           "#19d3f3",
           "#FF6692",
           "#B6E880",
           "#FF97FF",
           "#FECB52"
          ],
          "font": {
           "color": "#2a3f5f"
          },
          "geo": {
           "bgcolor": "white",
           "lakecolor": "white",
           "landcolor": "#E5ECF6",
           "showlakes": true,
           "showland": true,
           "subunitcolor": "white"
          },
          "hoverlabel": {
           "align": "left"
          },
          "hovermode": "closest",
          "mapbox": {
           "style": "light"
          },
          "paper_bgcolor": "white",
          "plot_bgcolor": "#E5ECF6",
          "polar": {
           "angularaxis": {
            "gridcolor": "white",
            "linecolor": "white",
            "ticks": ""
           },
           "bgcolor": "#E5ECF6",
           "radialaxis": {
            "gridcolor": "white",
            "linecolor": "white",
            "ticks": ""
           }
          },
          "scene": {
           "xaxis": {
            "backgroundcolor": "#E5ECF6",
            "gridcolor": "white",
            "gridwidth": 2,
            "linecolor": "white",
            "showbackground": true,
            "ticks": "",
            "zerolinecolor": "white"
           },
           "yaxis": {
            "backgroundcolor": "#E5ECF6",
            "gridcolor": "white",
            "gridwidth": 2,
            "linecolor": "white",
            "showbackground": true,
            "ticks": "",
            "zerolinecolor": "white"
           },
           "zaxis": {
            "backgroundcolor": "#E5ECF6",
            "gridcolor": "white",
            "gridwidth": 2,
            "linecolor": "white",
            "showbackground": true,
            "ticks": "",
            "zerolinecolor": "white"
           }
          },
          "shapedefaults": {
           "line": {
            "color": "#2a3f5f"
           }
          },
          "ternary": {
           "aaxis": {
            "gridcolor": "white",
            "linecolor": "white",
            "ticks": ""
           },
           "baxis": {
            "gridcolor": "white",
            "linecolor": "white",
            "ticks": ""
           },
           "bgcolor": "#E5ECF6",
           "caxis": {
            "gridcolor": "white",
            "linecolor": "white",
            "ticks": ""
           }
          },
          "title": {
           "x": 0.05
          },
          "xaxis": {
           "automargin": true,
           "gridcolor": "white",
           "linecolor": "white",
           "ticks": "",
           "title": {
            "standoff": 15
           },
           "zerolinecolor": "white",
           "zerolinewidth": 2
          },
          "yaxis": {
           "automargin": true,
           "gridcolor": "white",
           "linecolor": "white",
           "ticks": "",
           "title": {
            "standoff": 15
           },
           "zerolinecolor": "white",
           "zerolinewidth": 2
          }
         }
        },
        "title": {
         "text": "An illustration of fitting a curve to statistical mapping of dissimilarity and performance"
        },
        "xaxis": {
         "title": {
          "text": "SDD (Wasserstein distance)"
         }
        },
        "yaxis": {
         "title": {
          "text": "Performance (MAPE)"
         }
        }
       }
      }
     },
     "metadata": {},
     "output_type": "display_data"
    }
   ],
   "source": [
    "fit_polynomial_curve_to_data_and_visualize(sdd_performance_df['Wasserstein_dist'].values, sdd_performance_df['MAPE'].values, ylabel=\"MAPE\")"
   ]
  },
  {
   "cell_type": "code",
   "execution_count": 33,
   "metadata": {},
   "outputs": [
    {
     "data": {
      "image/png": "[encoded data removed]",
      "text/plain": [
       "<Figure size 1296x288 with 3 Axes>"
      ]
     },
     "metadata": {
      "needs_background": "light"
     },
     "output_type": "display_data"
    }
   ],
   "source": [
    "sdd_performance_visualization(sdd_performance_df['Wasserstein_dist'].values,  sdd_performance_df['RMSE'].values, sdd_performance_df['MAPE'].values, sdd_performance_df['R-Squared'].values, label='Reliance')"
   ]
  },
  {
   "cell_type": "code",
   "execution_count": 34,
   "metadata": {},
   "outputs": [
    {
     "data": {
      "image/png": "[encoded data removed]",
      "text/plain": [
       "<Figure size 1296x288 with 3 Axes>"
      ]
     },
     "metadata": {
      "needs_background": "light"
     },
     "output_type": "display_data"
    }
   ],
   "source": [
    "sdd_performance_visualization(sdd_performance_df['DTS_dist'].values, sdd_performance_df['RMSE'].values, sdd_performance_df['MAPE'].values, sdd_performance_df['R-Squared'].values, xlabel='DTS distance', label='Reliance')"
   ]
  },
  {
   "cell_type": "markdown",
   "metadata": {},
   "source": [
    "As seen in these figures, the performance of both models deteriorate as SDD increases. Figures above demonstrate how model performance (as measured by MAPE, RMSE, and R-squared) decreases as Wasserstein and DTS distances increase."
   ]
  },
  {
   "cell_type": "markdown",
   "metadata": {},
   "source": [
    "### Compute StaDRo measure on hold-out dataset"
   ]
  },
  {
   "cell_type": "markdown",
   "metadata": {},
   "source": [
    "In order to compute StaDRo, we first define $P_{min}$ for every performance metric. The value of $P_{min}$ indicates the minimum acceptable performance that model should exhibit in runtime context. \n",
    "\n",
    "The ECDF distance measure is computed for a particular test instance $X^{*}$ against the training set X. StaDRo estimates the model's robustness for test instance $X^{*}$ at a specified minimum performance $P_{min}$ using the equation:\n",
    "\n",
    "\n",
    "$$StaDRo(X^{*}, P_{min}) = \\begin{cases}True \\; \\; {\\dfrac{f(X, X^*)}{d_{P{min}}}} \\leq 1 \\\\\\\\\n",
    "                                False \\; \\; \\dfrac{f(X, X^*)}{d_{P_{min}}} > 1 \\end{cases}\n",
    "                                $$"
   ]
  },
  {
   "cell_type": "code",
   "execution_count": 35,
   "metadata": {},
   "outputs": [],
   "source": [
    "# Define the required minimum performance limit for three performance metrics: RMSE, MAPE, R2\n",
    "# Note: As RMSE and MAPE are the forecasting error measures, minimum perfoirmance would be an upper bound the error.\n",
    "\n",
    "MIN_RMSE = 125\n",
    "MIN_MAPE = 6.0\n",
    "MIN_R2 = 0.85"
   ]
  },
  {
   "cell_type": "code",
   "execution_count": 36,
   "metadata": {},
   "outputs": [
    {
     "data": {
      "text/html": [
       "<div>\n",
       "<style scoped>\n",
       "    .dataframe tbody tr th:only-of-type {\n",
       "        vertical-align: middle;\n",
       "    }\n",
       "\n",
       "    .dataframe tbody tr th {\n",
       "        vertical-align: top;\n",
       "    }\n",
       "\n",
       "    .dataframe thead th {\n",
       "        text-align: right;\n",
       "    }\n",
       "</style>\n",
       "<table border=\"1\" class=\"dataframe\">\n",
       "  <thead>\n",
       "    <tr style=\"text-align: right;\">\n",
       "      <th></th>\n",
       "      <th>Data Instance</th>\n",
       "      <th>RMSE</th>\n",
       "      <th>MAPE</th>\n",
       "      <th>R-Squared</th>\n",
       "      <th>Wasserstein_dist</th>\n",
       "    </tr>\n",
       "  </thead>\n",
       "  <tbody>\n",
       "    <tr>\n",
       "      <th>0</th>\n",
       "      <td>0 : 70</td>\n",
       "      <td>29.628983</td>\n",
       "      <td>1.749787</td>\n",
       "      <td>0.685558</td>\n",
       "      <td>298.587729</td>\n",
       "    </tr>\n",
       "    <tr>\n",
       "      <th>1</th>\n",
       "      <td>70 : 140</td>\n",
       "      <td>26.856679</td>\n",
       "      <td>1.518385</td>\n",
       "      <td>0.952918</td>\n",
       "      <td>459.474070</td>\n",
       "    </tr>\n",
       "    <tr>\n",
       "      <th>2</th>\n",
       "      <td>140 : 210</td>\n",
       "      <td>47.133102</td>\n",
       "      <td>2.755424</td>\n",
       "      <td>0.944063</td>\n",
       "      <td>392.110418</td>\n",
       "    </tr>\n",
       "    <tr>\n",
       "      <th>3</th>\n",
       "      <td>210 : 280</td>\n",
       "      <td>63.627978</td>\n",
       "      <td>3.246228</td>\n",
       "      <td>0.902331</td>\n",
       "      <td>563.165340</td>\n",
       "    </tr>\n",
       "    <tr>\n",
       "      <th>4</th>\n",
       "      <td>280 : 350</td>\n",
       "      <td>216.608491</td>\n",
       "      <td>9.647360</td>\n",
       "      <td>-4.736759</td>\n",
       "      <td>1182.599637</td>\n",
       "    </tr>\n",
       "    <tr>\n",
       "      <th>5</th>\n",
       "      <td>350 : 420</td>\n",
       "      <td>132.016948</td>\n",
       "      <td>6.219833</td>\n",
       "      <td>-5.616918</td>\n",
       "      <td>996.976089</td>\n",
       "    </tr>\n",
       "    <tr>\n",
       "      <th>6</th>\n",
       "      <td>420 : 490</td>\n",
       "      <td>151.742606</td>\n",
       "      <td>7.126105</td>\n",
       "      <td>-2.444127</td>\n",
       "      <td>1042.103199</td>\n",
       "    </tr>\n",
       "    <tr>\n",
       "      <th>7</th>\n",
       "      <td>490 : 560</td>\n",
       "      <td>200.172318</td>\n",
       "      <td>9.120893</td>\n",
       "      <td>-7.141950</td>\n",
       "      <td>1155.867567</td>\n",
       "    </tr>\n",
       "  </tbody>\n",
       "</table>\n",
       "</div>"
      ],
      "text/plain": [
       "  Data Instance        RMSE      MAPE  R-Squared  Wasserstein_dist\n",
       "0        0 : 70   29.628983  1.749787   0.685558        298.587729\n",
       "1      70 : 140   26.856679  1.518385   0.952918        459.474070\n",
       "2     140 : 210   47.133102  2.755424   0.944063        392.110418\n",
       "3     210 : 280   63.627978  3.246228   0.902331        563.165340\n",
       "4     280 : 350  216.608491  9.647360  -4.736759       1182.599637\n",
       "5     350 : 420  132.016948  6.219833  -5.616918        996.976089\n",
       "6     420 : 490  151.742606  7.126105  -2.444127       1042.103199\n",
       "7     490 : 560  200.172318  9.120893  -7.141950       1155.867567"
      ]
     },
     "execution_count": 36,
     "metadata": {},
     "output_type": "execute_result"
    }
   ],
   "source": [
    "stadro_df = sdd_performance_df.iloc[:, [0, 1, 2, 3, -1]]\n",
    "stadro_df"
   ]
  },
  {
   "cell_type": "markdown",
   "metadata": {},
   "source": [
    "The function compute_roots_from_curve_fit() returns dissimilarity corresponding to minimum Performance. The maximum of the two roots is considered for dissimilarity while computing StaDRo."
   ]
  },
  {
   "cell_type": "code",
   "execution_count": 37,
   "metadata": {},
   "outputs": [],
   "source": [
    "# Compute StaDRo from curve fitting\n",
    "\n",
    "WDFromCurve_1_rmse, WDFromCurve_2_rmse = compute_roots_from_curve_fit(stadro_df['Wasserstein_dist'].values,  stadro_df['RMSE'].values, MIN_RMSE)\n",
    "WDFromCurve_rmse = max(WDFromCurve_1_rmse, WDFromCurve_2_rmse)\n",
    "\n",
    "WDFromCurve_1_mape, WDFromCurve_2_mape = compute_roots_from_curve_fit(stadro_df['Wasserstein_dist'].values,  stadro_df['MAPE'].values, MIN_MAPE)\n",
    "WDFromCurve_mape = max(WDFromCurve_1_mape, WDFromCurve_2_mape)\n",
    "\n",
    "WDFromCurve_1_r2, WDFromCurve_2_r2 = compute_roots_from_curve_fit(stadro_df['Wasserstein_dist'].values,  stadro_df['R-Squared'].values, MIN_R2)\n",
    "WDFromCurve_r2 = max(WDFromCurve_1_r2, WDFromCurve_2_r2)\n",
    "\n",
    "stadro_df['rmse_ratio'] = np.round((stadro_df['Wasserstein_dist'] / WDFromCurve_rmse), 2)\n",
    "stadro_df['mape_ratio'] = np.round((stadro_df['Wasserstein_dist'] / WDFromCurve_mape), 2)\n",
    "stadro_df['r2_ratio'] = np.round((stadro_df['Wasserstein_dist'] / WDFromCurve_r2), 2)\n",
    "\n",
    "stadro_df.loc[stadro_df['rmse_ratio'] <= 1.00  , 'Robust_rmse'] = 'True'\n",
    "stadro_df.loc[stadro_df['rmse_ratio'] > 1.00, 'Robust_rmse'] = 'False'\n",
    "\n",
    "stadro_df.loc[stadro_df['mape_ratio'] <= 1.00  , 'Robust_mape'] = 'True'\n",
    "stadro_df.loc[stadro_df['mape_ratio'] > 1.00, 'Robust_mape'] = 'False'\n",
    "\n",
    "stadro_df.loc[stadro_df['r2_ratio'] <= 1.00  , 'Robust_r2'] = 'True'\n",
    "stadro_df.loc[stadro_df['r2_ratio'] > 1.00, 'Robust_r2'] = 'False'"
   ]
  },
  {
   "cell_type": "code",
   "execution_count": 38,
   "metadata": {},
   "outputs": [
    {
     "data": {
      "text/html": [
       "<div>\n",
       "<style scoped>\n",
       "    .dataframe tbody tr th:only-of-type {\n",
       "        vertical-align: middle;\n",
       "    }\n",
       "\n",
       "    .dataframe tbody tr th {\n",
       "        vertical-align: top;\n",
       "    }\n",
       "\n",
       "    .dataframe thead th {\n",
       "        text-align: right;\n",
       "    }\n",
       "</style>\n",
       "<table border=\"1\" class=\"dataframe\">\n",
       "  <thead>\n",
       "    <tr style=\"text-align: right;\">\n",
       "      <th></th>\n",
       "      <th>Data Instance</th>\n",
       "      <th>RMSE</th>\n",
       "      <th>MAPE</th>\n",
       "      <th>R-Squared</th>\n",
       "      <th>Wasserstein_dist</th>\n",
       "      <th>rmse_ratio</th>\n",
       "      <th>mape_ratio</th>\n",
       "      <th>r2_ratio</th>\n",
       "      <th>Robust_rmse</th>\n",
       "      <th>Robust_mape</th>\n",
       "      <th>Robust_r2</th>\n",
       "    </tr>\n",
       "  </thead>\n",
       "  <tbody>\n",
       "    <tr>\n",
       "      <th>0</th>\n",
       "      <td>0 : 70</td>\n",
       "      <td>29.628983</td>\n",
       "      <td>1.749787</td>\n",
       "      <td>0.685558</td>\n",
       "      <td>298.587729</td>\n",
       "      <td>0.32</td>\n",
       "      <td>0.31</td>\n",
       "      <td>0.70</td>\n",
       "      <td>True</td>\n",
       "      <td>True</td>\n",
       "      <td>True</td>\n",
       "    </tr>\n",
       "    <tr>\n",
       "      <th>1</th>\n",
       "      <td>70 : 140</td>\n",
       "      <td>26.856679</td>\n",
       "      <td>1.518385</td>\n",
       "      <td>0.952918</td>\n",
       "      <td>459.474070</td>\n",
       "      <td>0.49</td>\n",
       "      <td>0.48</td>\n",
       "      <td>1.08</td>\n",
       "      <td>True</td>\n",
       "      <td>True</td>\n",
       "      <td>False</td>\n",
       "    </tr>\n",
       "    <tr>\n",
       "      <th>2</th>\n",
       "      <td>140 : 210</td>\n",
       "      <td>47.133102</td>\n",
       "      <td>2.755424</td>\n",
       "      <td>0.944063</td>\n",
       "      <td>392.110418</td>\n",
       "      <td>0.42</td>\n",
       "      <td>0.41</td>\n",
       "      <td>0.92</td>\n",
       "      <td>True</td>\n",
       "      <td>True</td>\n",
       "      <td>True</td>\n",
       "    </tr>\n",
       "    <tr>\n",
       "      <th>3</th>\n",
       "      <td>210 : 280</td>\n",
       "      <td>63.627978</td>\n",
       "      <td>3.246228</td>\n",
       "      <td>0.902331</td>\n",
       "      <td>563.165340</td>\n",
       "      <td>0.60</td>\n",
       "      <td>0.59</td>\n",
       "      <td>1.33</td>\n",
       "      <td>True</td>\n",
       "      <td>True</td>\n",
       "      <td>False</td>\n",
       "    </tr>\n",
       "    <tr>\n",
       "      <th>4</th>\n",
       "      <td>280 : 350</td>\n",
       "      <td>216.608491</td>\n",
       "      <td>9.647360</td>\n",
       "      <td>-4.736759</td>\n",
       "      <td>1182.599637</td>\n",
       "      <td>1.26</td>\n",
       "      <td>1.25</td>\n",
       "      <td>2.79</td>\n",
       "      <td>False</td>\n",
       "      <td>False</td>\n",
       "      <td>False</td>\n",
       "    </tr>\n",
       "    <tr>\n",
       "      <th>5</th>\n",
       "      <td>350 : 420</td>\n",
       "      <td>132.016948</td>\n",
       "      <td>6.219833</td>\n",
       "      <td>-5.616918</td>\n",
       "      <td>996.976089</td>\n",
       "      <td>1.06</td>\n",
       "      <td>1.05</td>\n",
       "      <td>2.35</td>\n",
       "      <td>False</td>\n",
       "      <td>False</td>\n",
       "      <td>False</td>\n",
       "    </tr>\n",
       "    <tr>\n",
       "      <th>6</th>\n",
       "      <td>420 : 490</td>\n",
       "      <td>151.742606</td>\n",
       "      <td>7.126105</td>\n",
       "      <td>-2.444127</td>\n",
       "      <td>1042.103199</td>\n",
       "      <td>1.11</td>\n",
       "      <td>1.10</td>\n",
       "      <td>2.46</td>\n",
       "      <td>False</td>\n",
       "      <td>False</td>\n",
       "      <td>False</td>\n",
       "    </tr>\n",
       "    <tr>\n",
       "      <th>7</th>\n",
       "      <td>490 : 560</td>\n",
       "      <td>200.172318</td>\n",
       "      <td>9.120893</td>\n",
       "      <td>-7.141950</td>\n",
       "      <td>1155.867567</td>\n",
       "      <td>1.23</td>\n",
       "      <td>1.22</td>\n",
       "      <td>2.72</td>\n",
       "      <td>False</td>\n",
       "      <td>False</td>\n",
       "      <td>False</td>\n",
       "    </tr>\n",
       "  </tbody>\n",
       "</table>\n",
       "</div>"
      ],
      "text/plain": [
       "  Data Instance        RMSE      MAPE  R-Squared  Wasserstein_dist  \\\n",
       "0        0 : 70   29.628983  1.749787   0.685558        298.587729   \n",
       "1      70 : 140   26.856679  1.518385   0.952918        459.474070   \n",
       "2     140 : 210   47.133102  2.755424   0.944063        392.110418   \n",
       "3     210 : 280   63.627978  3.246228   0.902331        563.165340   \n",
       "4     280 : 350  216.608491  9.647360  -4.736759       1182.599637   \n",
       "5     350 : 420  132.016948  6.219833  -5.616918        996.976089   \n",
       "6     420 : 490  151.742606  7.126105  -2.444127       1042.103199   \n",
       "7     490 : 560  200.172318  9.120893  -7.141950       1155.867567   \n",
       "\n",
       "   rmse_ratio  mape_ratio  r2_ratio Robust_rmse Robust_mape Robust_r2  \n",
       "0        0.32        0.31      0.70        True        True      True  \n",
       "1        0.49        0.48      1.08        True        True     False  \n",
       "2        0.42        0.41      0.92        True        True      True  \n",
       "3        0.60        0.59      1.33        True        True     False  \n",
       "4        1.26        1.25      2.79       False       False     False  \n",
       "5        1.06        1.05      2.35       False       False     False  \n",
       "6        1.11        1.10      2.46       False       False     False  \n",
       "7        1.23        1.22      2.72       False       False     False  "
      ]
     },
     "execution_count": 38,
     "metadata": {},
     "output_type": "execute_result"
    }
   ],
   "source": [
    "stadro_df"
   ]
  },
  {
   "cell_type": "markdown",
   "metadata": {},
   "source": [
    "The table above is an example of StaDRo using Reliance data. When compared to prior data, dissimilarity (Wasserstein distance) increases to 1182.60 between 280-350th time step. As the chosen $P_{min}$ for RMSE is 125, the ratio of dissimilarity corresponding to RMSE of 216.608 to that corresponding to 125 is greater than 1 for this data instance. As a result, StaDRo measure return False in this regime for a LSTM model. This analysis holds true for MAPE measure as well.\n",
    "\n",
    "R2 values can be negative, therefore choosing a negative Pmin is unsuitable in real-world contexts. However, choosing a value between 0 and 1 may result in a few false alarms because the model can capture data variance especially well in some regions when dissimilarity is greater. R2 is not measure of prediction accuracy of the fitted model. This work employs the R2 measure and analyzes its relationship with SDD, which may be relevant in instances where the R2 measure is used to evaluate forecasting models.\n",
    "\n",
    "The column for Wasserstein distance indicate that data encountered from 280th time step onward is more dissimilar than training data. This is beneficial to determine OOD instances. As indicated by StaDRo measure, the LSTM model is not robust in this regime.  \n",
    "\n",
    "The proposed StaDRo is a model-agnostic measure that considers rate of change of dissimilarity and enables runtime monitoring of ML models. Machine learning algorithms that are designed to be robust to distributional shifts may benefit from the proposed StaDRo metric by using it as additional validation of robustness.\n",
    "\n",
    "Future works in the direction of StaDRo measure include applying the measure to multivariate time series and extending it to account for adversarial examples."
   ]
  }
 ],
 "metadata": {
  "kernelspec": {
   "display_name": "Python 3.7.13",
   "language": "python",
   "name": "python3"
  },
  "language_info": {
   "codemirror_mode": {
    "name": "ipython",
    "version": 3
   },
   "file_extension": ".py",
   "mimetype": "text/x-python",
   "name": "python",
   "nbconvert_exporter": "python",
   "pygments_lexer": "ipython3",
   "version": "3.7.13"
  },
  "vscode": {
   "interpreter": {
    "hash": "fc6804c70778b2a5ee9366302ce24eaafe851683f732fd309a8f14835669719c"
   }
  }
 },
 "nbformat": 4,
 "nbformat_minor": 2
}
